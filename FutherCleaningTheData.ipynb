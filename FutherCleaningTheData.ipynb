{
 "cells": [
  {
   "cell_type": "code",
   "execution_count": 13,
   "metadata": {},
   "outputs": [],
   "source": [
    "from datasets import load_dataset"
   ]
  },
  {
   "cell_type": "code",
   "execution_count": 14,
   "metadata": {},
   "outputs": [],
   "source": [
    "dataset = load_dataset(\"KANZOO/scrapped_articles\")"
   ]
  },
  {
   "cell_type": "code",
   "execution_count": 48,
   "metadata": {},
   "outputs": [
    {
     "name": "stdout",
     "output_type": "stream",
     "text": [
      "DatasetDict({\n",
      "    train: Dataset({\n",
      "        features: ['title', 'text'],\n",
      "        num_rows: 144\n",
      "    })\n",
      "})\n"
     ]
    }
   ],
   "source": [
    "print(dataset)"
   ]
  },
  {
   "cell_type": "code",
   "execution_count": 49,
   "metadata": {},
   "outputs": [],
   "source": [
    "# Function to merge all text into one large dataset\n",
    "def merge_all_text(dataset):\n",
    "    combined_text = \"\"\n",
    "    for example in dataset['train']:\n",
    "        combined_text += example['text'] + \" \"  # Add a space between articles\n",
    "    return combined_text.strip()\n",
    "\n",
    "# Merge all text from the dataset\n",
    "combined_text = merge_all_text(dataset)"
   ]
  },
  {
   "cell_type": "code",
   "execution_count": 52,
   "metadata": {},
   "outputs": [
    {
     "name": "stdout",
     "output_type": "stream",
     "text": [
      "Total number of sentences: 9251\n",
      "Small sentences (less than 3 words): ['1', '2', '3', '1', '2', '3', '4', '519 ق', '476 ق', '(5', '(5', '1', '2', '3', '1', '2', '3', '4', '519 ق', '476 ق', '(5', '1', '2', '3', '1', '2', '3', '4', '519 ق', '476 ق']\n",
      "Number of small sentences: 30\n"
     ]
    }
   ],
   "source": [
    "# checking the length of shorter sentences to clean up the dataset\n",
    "def split_into_sentences(text):\n",
    "    sentences = text.split(\"۔\")  # Split the text at each Urdu period\n",
    "    return [sentence.strip() for sentence in sentences if sentence.strip()]  # Remove leading/trailing spaces\n",
    "\n",
    "# Function to find the length of each sentence\n",
    "def sentence_lengths(sentences):\n",
    "    return [len(sentence) for sentence in sentences]\n",
    "\n",
    "# Define a threshold for \"small\" sentences (e.g., sentences with fewer than 5 words)\n",
    "def find_small_sentences(sentences, length_threshold=3):\n",
    "    small_sentences = [sentence for sentence in sentences if len(sentence.split()) < length_threshold]\n",
    "    return small_sentences\n",
    "\n",
    "# Split the cleaned text into sentences\n",
    "sentences = split_into_sentences(combined_text)\n",
    "\n",
    "# Get the length of each sentence\n",
    "lengths = sentence_lengths(sentences)\n",
    "\n",
    "# Find sentences that are shorter than the threshold\n",
    "small_sentences = find_small_sentences(sentences)\n",
    "\n",
    "# Output\n",
    "print(f\"Total number of sentences: {len(sentences)}\")\n",
    "print(f\"Small sentences (less than 3 words): {small_sentences}\")\n",
    "print(f\"Number of small sentences: {len(small_sentences)}\")"
   ]
  },
  {
   "cell_type": "code",
   "execution_count": 53,
   "metadata": {},
   "outputs": [
    {
     "name": "stdout",
     "output_type": "stream",
     "text": [
      "Total number of sentences after filtering: 9221\n"
     ]
    }
   ],
   "source": [
    "# Function to remove small sentences with fewer than 3 words\n",
    "def remove_small_sentences(sentences, word_threshold=3):\n",
    "    # Keep only sentences with 3 or more words\n",
    "    filtered_sentences = [sentence for sentence in sentences if len(sentence.split()) >= word_threshold]\n",
    "    return filtered_sentences\n",
    "\n",
    "# Split the cleaned text into sentences\n",
    "sentences = split_into_sentences(combined_text)\n",
    "\n",
    "# Remove sentences that have fewer than 3 words\n",
    "filtered_sentences = remove_small_sentences(sentences, word_threshold=3)\n",
    "\n",
    "# Recombine the filtered sentences back into a single text\n",
    "cleaned_filtered_text = \"۔ \".join(filtered_sentences)  # Add back the Urdu period between sentences\n",
    "\n",
    "# Output\n",
    "print(f\"Total number of sentences after filtering: {len(filtered_sentences)}\")\n"
   ]
  },
  {
   "cell_type": "code",
   "execution_count": 54,
   "metadata": {},
   "outputs": [
    {
     "name": "stdout",
     "output_type": "stream",
     "text": [
      "Sentences with 3 or fewer words:\n",
      "1\n",
      "2\n",
      "3\n",
      "1\n",
      "2\n",
      "3\n",
      "4\n",
      "مہاویر (527-599) ق\n",
      "519 ق\n",
      "476 ق\n",
      "(5\n",
      "(5\n",
      "1\n",
      "2\n",
      "3\n",
      "1\n",
      "2\n",
      "3\n",
      "4\n",
      "مہاویر (527-599) ق\n",
      "519 ق\n",
      "476 ق\n",
      "(5\n",
      "1\n",
      "2\n",
      "3\n",
      "1\n",
      "2\n",
      "3\n",
      "4\n",
      "مہاویر (527-599) ق\n",
      "519 ق\n",
      "476 ق\n",
      "\n",
      "Total number of sentences with 3 or fewer words: 33\n"
     ]
    }
   ],
   "source": [
    "# checking the length of shorter sentences to clean up the dataset further \n",
    "# Function to find sentences with 4 or fewer words\n",
    "def find_small_sentences(sentences, word_threshold=3):\n",
    "    # Find sentences that have 4 or fewer words\n",
    "    small_sentences = [sentence for sentence in sentences if len(sentence.split()) <= word_threshold]\n",
    "    return small_sentences\n",
    "\n",
    "# Split the cleaned text into sentences\n",
    "sentences = split_into_sentences(combined_text)\n",
    "\n",
    "# Find sentences with 4 or fewer words\n",
    "small_sentences = find_small_sentences(sentences, word_threshold=3)\n",
    "\n",
    "# Output the small sentences for inspection\n",
    "print(\"Sentences with 3 or fewer words:\")\n",
    "for sentence in small_sentences:\n",
    "    print(sentence)\n",
    "\n",
    "print(f\"\\nTotal number of sentences with 3 or fewer words: {len(small_sentences)}\")"
   ]
  },
  {
   "cell_type": "code",
   "execution_count": 58,
   "metadata": {},
   "outputs": [
    {
     "name": "stdout",
     "output_type": "stream",
     "text": [
      "\n",
      "Total number of remaining sentences: 9207\n"
     ]
    }
   ],
   "source": [
    "# Function to remove sentences with 3 or fewer words\n",
    "def remove_small_sentences(sentences, word_threshold=3):\n",
    "    # Keep only sentences that have more than 3 words\n",
    "    filtered_sentences = [sentence for sentence in sentences if len(sentence.split()) > word_threshold]\n",
    "    return filtered_sentences\n",
    "\n",
    "# Remove sentences with 3 or fewer words\n",
    "filtered_sentences = remove_small_sentences(sentences, word_threshold=4)\n",
    "\n",
    "print(f\"\\nTotal number of remaining sentences: {len(filtered_sentences)}\")\n"
   ]
  },
  {
   "cell_type": "code",
   "execution_count": 60,
   "metadata": {},
   "outputs": [
    {
     "name": "stdout",
     "output_type": "stream",
     "text": [
      "Sentences with 4 or fewer words from filtered sentences:\n",
      "ایسا بالکل بھی نہیں تھا\n",
      "مہاتما بدھ نے 483 ق\n",
      "م میں یہ جہان چھوڑا\n",
      "شاید یہی شاہی ایوان تھا\n",
      "یہ ستمبر کا مہینہ تھا\n",
      "سسی انتظار کرتے کرتے سوگئی\n",
      "سلطان مایوس ہوکر واپس لوٹا‘\n",
      "وہ یہاں بہت عرصہ رہا\n",
      "یہ 1554ء کا زمانہ تھا\n",
      "وہ سیاسی قوت کلہوڑا تھے\n",
      "سسی انتظار کرتے کرتے سوگئی\n",
      "سلطان مایوس ہوکر واپس لوٹا‘\n",
      "وہ یہاں بہت عرصہ رہا\n",
      "یہ 1554ء کا زمانہ تھا\n",
      "وہ سیاسی قوت کلہوڑا تھے\n",
      "ایسا بالکل بھی نہیں تھا\n",
      "مہاتما بدھ نے 483 ق\n",
      "م میں یہ جہان چھوڑا\n",
      "شاید یہی شاہی ایوان تھا\n",
      "یہ ستمبر کا مہینہ تھا\n",
      "سسی انتظار کرتے کرتے سوگئی\n",
      "سلطان مایوس ہوکر واپس لوٹا‘\n",
      "وہ یہاں بہت عرصہ رہا\n",
      "یہ 1554ء کا زمانہ تھا\n",
      "وہ سیاسی قوت کلہوڑا تھے\n",
      "ایسا بالکل بھی نہیں تھا\n",
      "مہاتما بدھ نے 483 ق\n",
      "م میں یہ جہان چھوڑا\n",
      "شاید یہی شاہی ایوان تھا\n",
      "یہ ستمبر کا مہینہ تھا\n",
      "\n",
      "Total number of sentences with 5 or fewer words: 30\n"
     ]
    }
   ],
   "source": [
    "# Now find sentences with 4 or fewer words from the filtered list\n",
    "small_sentences = find_small_sentences(filtered_sentences, word_threshold=5)\n",
    "\n",
    "# Output the small sentences for inspection\n",
    "print(\"Sentences with 4 or fewer words from filtered sentences:\")\n",
    "for sentence in small_sentences:\n",
    "    print(sentence)\n",
    "\n",
    "print(f\"\\nTotal number of sentences with 5 or fewer words: {len(small_sentences)}\")"
   ]
  },
  {
   "cell_type": "code",
   "execution_count": 61,
   "metadata": {},
   "outputs": [
    {
     "name": "stdout",
     "output_type": "stream",
     "text": [
      "\n",
      "Total number of remaining sentences: 9207\n"
     ]
    }
   ],
   "source": [
    "print(f\"\\nTotal number of remaining sentences: {len(filtered_sentences)}\")"
   ]
  },
  {
   "cell_type": "code",
   "execution_count": 62,
   "metadata": {},
   "outputs": [
    {
     "name": "stdout",
     "output_type": "stream",
     "text": [
      "Smallest sentence length: 5\n",
      "Largest sentence length: 187\n",
      "Average sentence length: 26.89\n",
      "\n",
      "Sentence Length Distribution:\n",
      "         Bin  Count\n",
      "0-4      0-4      0\n",
      "5-9      5-9    553\n",
      "10-14  10-14   1216\n",
      "15-19  15-19   1657\n",
      "20-29  20-29   2720\n",
      "30-49  30-49   2331\n",
      "50-99  50-99    693\n"
     ]
    }
   ],
   "source": [
    "import numpy as np\n",
    "import pandas as pd\n",
    "\n",
    "\n",
    "\n",
    "# Calculate lengths of sentences (word count)\n",
    "sentence_lengths = [len(sentence.split()) for sentence in filtered_sentences]\n",
    "\n",
    "# Calculate statistics\n",
    "min_length = min(sentence_lengths)\n",
    "max_length = max(sentence_lengths)\n",
    "avg_length = np.mean(sentence_lengths)\n",
    "\n",
    "# Create bins (you can adjust the bin ranges)\n",
    "bins = [0, 5, 10, 15, 20, 30, 50, 100]\n",
    "bin_labels = [f\"{bins[i]}-{bins[i+1]-1}\" for i in range(len(bins)-1)]\n",
    "bin_counts = pd.cut(sentence_lengths, bins=bins, labels=bin_labels, right=False).value_counts()\n",
    "\n",
    "# Output statistics\n",
    "print(f\"Smallest sentence length: {min_length}\")\n",
    "print(f\"Largest sentence length: {max_length}\")\n",
    "print(f\"Average sentence length: {avg_length:.2f}\")\n",
    "\n",
    "# Output bin distribution as a table\n",
    "bin_distribution = pd.DataFrame({\"Bin\": bin_labels, \"Count\": bin_counts}).sort_index()\n",
    "print(\"\\nSentence Length Distribution:\")\n",
    "print(bin_distribution)"
   ]
  },
  {
   "cell_type": "code",
   "execution_count": 63,
   "metadata": {},
   "outputs": [
    {
     "data": {
      "image/png": "[encoded data removed]",
      "text/plain": [
       "<Figure size 1000x600 with 1 Axes>"
      ]
     },
     "metadata": {},
     "output_type": "display_data"
    }
   ],
   "source": [
    "import matplotlib.pyplot as plt\n",
    "\n",
    "# Example statistics (replace these with your calculated values)\n",
    "smallest_length = 5\n",
    "largest_length = 187\n",
    "average_length = 26.89\n",
    "\n",
    "# Example data for the chart\n",
    "bins = [\"0-4\", \"5-9\", \"10-14\", \"15-19\", \"20-29\", \"30-49\", \"50-99\"]\n",
    "counts = [0, 553, 1216, 1657, 2720, 2331, 693]\n",
    "\n",
    "# Create the bar chart\n",
    "plt.figure(figsize=(10, 6))\n",
    "plt.bar(bins, counts, color='skyblue', edgecolor='black')\n",
    "plt.title('Sentence Length Distribution', fontsize=16)\n",
    "plt.xlabel('Sentence Length Bins (words)', fontsize=14)\n",
    "plt.ylabel('Count', fontsize=14)\n",
    "plt.xticks(fontsize=12)\n",
    "plt.yticks(fontsize=12)\n",
    "\n",
    "# Display statistics in the chart\n",
    "stats_text = (\n",
    "    f\"Smallest Length: {smallest_length}\\n\"\n",
    "    f\"Largest Length: {largest_length}\\n\"\n",
    "    f\"Average Length: {average_length:.2f}\"\n",
    ")\n",
    "plt.text(5.5, max(counts) * 0.8, stats_text, fontsize=12, bbox=dict(facecolor='white', edgecolor='black'))\n",
    "\n",
    "# Show the chart\n",
    "plt.tight_layout()\n",
    "plt.show()\n"
   ]
  },
  {
   "cell_type": "code",
   "execution_count": 64,
   "metadata": {},
   "outputs": [
    {
     "data": {
      "text/plain": [
       "22"
      ]
     },
     "execution_count": 64,
     "metadata": {},
     "output_type": "execute_result"
    }
   ],
   "source": [
    "\n",
    "\n",
    "# Join all sentences into a single string\n",
    "all_text = \"\".join(filtered_sentences)\n",
    "\n",
    "\n",
    "all_text.count(\"!\")\n",
    "\n"
   ]
  },
  {
   "cell_type": "code",
   "execution_count": 65,
   "metadata": {},
   "outputs": [
    {
     "data": {
      "text/plain": [
       "124"
      ]
     },
     "execution_count": 65,
     "metadata": {},
     "output_type": "execute_result"
    }
   ],
   "source": [
    "all_text.count(\"؟\")"
   ]
  },
  {
   "cell_type": "code",
   "execution_count": 68,
   "metadata": {},
   "outputs": [
    {
     "data": {
      "text/plain": [
       "54"
      ]
     },
     "execution_count": 68,
     "metadata": {},
     "output_type": "execute_result"
    }
   ],
   "source": [
    "all_text.count(\".\")"
   ]
  },
  {
   "cell_type": "code",
   "execution_count": 71,
   "metadata": {},
   "outputs": [
    {
     "data": {
      "text/plain": [
       "0"
      ]
     },
     "execution_count": 71,
     "metadata": {},
     "output_type": "execute_result"
    }
   ],
   "source": [
    "all_text.count(\"۔\")"
   ]
  },
  {
   "cell_type": "code",
   "execution_count": 70,
   "metadata": {},
   "outputs": [
    {
     "data": {
      "text/plain": [
       "4436"
      ]
     },
     "execution_count": 70,
     "metadata": {},
     "output_type": "execute_result"
    }
   ],
   "source": [
    "all_text.count(\"،\")"
   ]
  },
  {
   "cell_type": "code",
   "execution_count": 73,
   "metadata": {},
   "outputs": [
    {
     "data": {
      "text/plain": [
       "0"
      ]
     },
     "execution_count": 73,
     "metadata": {},
     "output_type": "execute_result"
    }
   ],
   "source": [
    "all_text.count(\"@#$%^&*()_+=[]{}|;:.<>/\")"
   ]
  },
  {
   "cell_type": "code",
   "execution_count": 74,
   "metadata": {},
   "outputs": [
    {
     "data": {
      "text/plain": [
       "9207"
      ]
     },
     "execution_count": 74,
     "metadata": {},
     "output_type": "execute_result"
    }
   ],
   "source": [
    "len(filtered_sentences)"
   ]
  },
  {
   "cell_type": "code",
   "execution_count": 77,
   "metadata": {},
   "outputs": [
    {
     "name": "stdout",
     "output_type": "stream",
     "text": [
      "Total Word Count: 247616\n"
     ]
    }
   ],
   "source": [
    "# count the number of words\n",
    "def count_words(all_text):\n",
    "    words = all_text.split()\n",
    "    return len(words)   \n",
    "# Count the words in the merged text\n",
    "word_count = count_words(combined_text)\n",
    "# Print the total word count        \n",
    "print(\"Total Word Count:\", word_count)"
   ]
  }
 ],
 "metadata": {
  "kernelspec": {
   "display_name": "Python 3",
   "language": "python",
   "name": "python3"
  },
  "language_info": {
   "codemirror_mode": {
    "name": "ipython",
    "version": 3
   },
   "file_extension": ".py",
   "mimetype": "text/x-python",
   "name": "python",
   "nbconvert_exporter": "python",
   "pygments_lexer": "ipython3",
   "version": "3.10.7"
  }
 },
 "nbformat": 4,
 "nbformat_minor": 2
}

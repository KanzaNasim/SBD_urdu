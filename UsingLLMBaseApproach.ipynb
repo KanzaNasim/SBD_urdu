{
 "cells": [
  {
   "cell_type": "code",
   "execution_count": 7,
   "metadata": {},
   "outputs": [],
   "source": [
    "import os\n",
    "import openai"
   ]
  },
  {
   "cell_type": "code",
   "execution_count": 9,
   "metadata": {},
   "outputs": [],
   "source": [
    "# Create a chat completion with a specific question\n",
    "chat_completion = openai.ChatCompletion.create(\n",
    "    model=\"gpt-3.5-turbo\",\n",
    "    messages=[\n",
    "        {\n",
    "            \"role\": \"user\",\n",
    "            \"content\": \"What are the benefits of using AI in education?\",\n",
    "        }\n",
    "    ],\n",
    ")\n",
    "\n"
   ]
  },
  {
   "cell_type": "code",
   "execution_count": 10,
   "metadata": {},
   "outputs": [
    {
     "name": "stdout",
     "output_type": "stream",
     "text": [
      "1. Personalized learning: AI technology can help create personalized learning experiences for each student based on their individual needs, interests, and learning styles.\n",
      "\n",
      "2. Enhanced student engagement: AI can provide interactive and engaging learning experiences through virtual reality, adaptive learning platforms, and gamified learning activities.\n",
      "\n",
      "3. Improved teaching efficiency: AI can automate administrative tasks, provide insights into student performance, and help identify areas where students may need additional support, allowing teachers to focus more on personalized instruction.\n",
      "\n",
      "4. Access to high-quality educational resources: AI-powered tools can provide students with access to a wide range of educational resources, such as online courses, tutorials, and adaptive learning platforms, regardless of their geographical location or socioeconomic status.\n",
      "\n",
      "5. Increased efficiency in grading and assessment: AI can help teachers grade assignments, provide feedback to students, and assess student understanding more quickly and accurately, freeing up time for more meaningful interactions with students.\n",
      "\n",
      "6. Support for students with special needs: AI technology can help provide additional support and accommodations for students with disabilities or special learning needs, such as speech recognition software for students with dyslexia or personalized learning programs for students with autism.\n",
      "\n",
      "7. Predictive analytics: AI can analyze large amounts of student data to predict future learning outcomes, identify at-risk students, and provide personalized interventions to help students succeed.\n",
      "\n",
      "8. Lifelong learning opportunities: AI can support lifelong learning by providing access to online courses, tutorials, and self-paced learning resources that help individuals upskill and reskill throughout their careers.\n",
      "\n",
      "9. Collaboration and communication: AI-powered tools can facilitate collaboration and communication among students and teachers, allowing for more interactive and engaging learning experiences both in the classroom and remotely.\n",
      "\n",
      "10. Cost-effective solutions: AI technology can help reduce costs associated with traditional education delivery methods, such as textbooks, physical infrastructure, and administrative overhead, making education more accessible and affordable for all.\n"
     ]
    }
   ],
   "source": [
    "print(chat_completion.choices[0].message.content)"
   ]
  },
  {
   "cell_type": "code",
   "execution_count": null,
   "metadata": {},
   "outputs": [],
   "source": []
  }
 ],
 "metadata": {
  "kernelspec": {
   "display_name": "Python 3",
   "language": "python",
   "name": "python3"
  },
  "language_info": {
   "codemirror_mode": {
    "name": "ipython",
    "version": 3
   },
   "file_extension": ".py",
   "mimetype": "text/x-python",
   "name": "python",
   "nbconvert_exporter": "python",
   "pygments_lexer": "ipython3",
   "version": "3.10.7"
  }
 },
 "nbformat": 4,
 "nbformat_minor": 2
}

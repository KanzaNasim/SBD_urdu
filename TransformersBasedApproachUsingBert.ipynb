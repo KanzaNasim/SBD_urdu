{
 "cells": [
  {
   "cell_type": "code",
   "execution_count": 1,
   "metadata": {},
   "outputs": [
    {
     "name": "stderr",
     "output_type": "stream",
     "text": [
      "c:\\Users\\Kanza Nasim\\AppData\\Local\\Programs\\Python\\Python310\\lib\\site-packages\\tqdm\\auto.py:21: TqdmWarning: IProgress not found. Please update jupyter and ipywidgets. See https://ipywidgets.readthedocs.io/en/stable/user_install.html\n",
      "  from .autonotebook import tqdm as notebook_tqdm\n"
     ]
    },
    {
     "name": "stdout",
     "output_type": "stream",
     "text": [
      "DatasetDict({\n",
      "    train: Dataset({\n",
      "        features: ['title', 'text'],\n",
      "        num_rows: 144\n",
      "    })\n",
      "})\n"
     ]
    }
   ],
   "source": [
    "from datasets import load_dataset\n",
    "\n",
    "dataset = load_dataset(\"KANZOO/scrapped_articles\")\n",
    "\n",
    "print(dataset)"
   ]
  },
  {
   "cell_type": "code",
   "execution_count": 2,
   "metadata": {},
   "outputs": [],
   "source": [
    "# Access the 'train' subset\n",
    "train_dataset = dataset['train']\n",
    "\n",
    "\n",
    "# Function to merge all text into one large dataset\n",
    "def merge_all_text(dataset):\n",
    "    combined_text = \"\"\n",
    "    for example in dataset['train']:\n",
    "        combined_text += example['text'] + \" \"  \n",
    "    return combined_text.strip()\n",
    "\n",
    "\n",
    "# Merge all text from the dataset\n",
    "combined_text = merge_all_text(dataset)"
   ]
  },
  {
   "cell_type": "code",
   "execution_count": 3,
   "metadata": {},
   "outputs": [],
   "source": [
    "import re\n",
    "# Function to remove all punctuation except for Urdu period (۔)\n",
    "def remove_punctuation(text):\n",
    "    # Regex pattern to remove all punctuation except for \"۔\"\n",
    "    pattern = r'[^\\w\\s۔]'  \n",
    "    cleaned_text = re.sub(pattern, '', text)\n",
    "    return cleaned_text\n",
    "\n",
    "\n",
    "# Remove all punctuation except for \"۔\"\n",
    "cleaned_text = remove_punctuation(combined_text)"
   ]
  },
  {
   "cell_type": "code",
   "execution_count": 4,
   "metadata": {},
   "outputs": [],
   "source": [
    "# Function to remove the Urdu period \"۔\" from the text\n",
    "def remove_period(text):\n",
    "    cleaned_text_without_period = text.replace('۔', '')  \n",
    "    return cleaned_text_without_period\n",
    "\n",
    "cleaned_text_without_period = remove_period(cleaned_text)"
   ]
  },
  {
   "cell_type": "code",
   "execution_count": 5,
   "metadata": {},
   "outputs": [
    {
     "name": "stdout",
     "output_type": "stream",
     "text": [
      "اس سلسلے کی دیگر اقساط یہاں پڑھیے\n",
      "\n",
      "یہ کیسے ممکن ہے کہ کسی کا مستقبل ماضی کے بغیر ہو کیونکہ دن دن سے اور پل پل سے جڑا ہوتا ہے جس طرح ہم گزرے دن کو بھی کل کہتے ہیں اور آنے والے دن کو بھی کل کہتے ہیں اس لیے کیونکہ کل اور کل میں جو آج ہے وہ ایک کڑی ہے جو دونوں کو اپس میں جوڑ کر رکھتی ہے تو ہم اگر کبھی تنہائی میں کچھ پل نکال کر سوچیں کہ ہماری جتنی بھی زندگی گزری خواہ وہ 24 برس ہو 64 کی یا 84 برس ہو ہم یہ حیات اسی صورت میں گزار پاتے ہیں جب ہم اپنے گزرے برسوں اور شب و روز سے جڑے رہتے ہیں\n",
      "\n",
      "اگر لوگوں قوموں اور تہذیبوں سے ان کا ماضی چھین لیا جائے تو وہ شاید زیادہ عرصہ زندہ نہیں رہ پائیں گی ان میں آگے بڑھنے کی چاہت ختم ہوجائے گی تگ و دو کا جوہر ان سے چھن جائے گا بالکل ایسے جیسے کسی وجود کو الزائمر کی بیماری لگتی ہے اور اس کی یادداشت کے خلیے بے جان ہونے لگتے ہیں آپ یہ سمجھیں کہ یہ بیماری اس سے اس کا ماضی چھین لیتی ہے اور وہ اسی کیفیت میں زیادہ زندگی نہیں جی سکے گا اور اگر جیے گا بھی تو حیات کے ان رنگوں ذائقوں اور کیفیتوں کے ریگستان میں جہاں موت کی ویرانی کے سوا کچھ نہیں بچتا نہ رنگوں کے پھول کھلتے ہیں نہ ذائقوں کی خوشبو کا کوئی جھونکا آتا ہے اور نہ غم و خوشی کی کوئی فاختہ اڑتی ہے اور نہ آسمان کی نیلاہٹ کے گہرے رنگ میں کشش کی کوئی ناؤ چلتی ہے بس ایک بے رنگ اور بے ذائقہ حیات\n",
      "\n",
      "ہمارا آج کا سفر بھی سمندر کنارے اور ان پہاڑیوں کے جنگلات آبشاروں غاروں اور قدامت کی ان پگڈنڈیوں پر ہی ہے مگر اج ہمیں ڈاکٹر عبدالرؤف کی کراچی ریجن پر کی گئی تحقیق اور اس تحقیق پر پاؤلو بیگی کی تازہ تحقیق پر تفصیلی بات کرنی تھی لیکن جیسے ہی ہم سفر کرنے کی تیاری میں تھے تو ہمارے ساتھیوں میں سے کسی نے دو تین سوال کر ڈالے \n"
     ]
    }
   ],
   "source": [
    "print(cleaned_text_without_period[:1500])"
   ]
  },
  {
   "cell_type": "code",
   "execution_count": 11,
   "metadata": {},
   "outputs": [],
   "source": [
    "# Function to split text into chunks\n",
    "def split_into_chunks(text, max_length=512):\n",
    "    words = text.split()\n",
    "    chunks = []\n",
    "    current_chunk = []\n",
    "\n",
    "    for word in words:\n",
    "        # Check if adding the next word would exceed the max length\n",
    "        if len(current_chunk) + len(word.split()) > max_length:\n",
    "            chunks.append(' '.join(current_chunk))\n",
    "            current_chunk = [word]\n",
    "        else:\n",
    "            current_chunk.append(word)\n",
    "    \n",
    "    if current_chunk:\n",
    "        chunks.append(' '.join(current_chunk))\n",
    "\n",
    "    return chunks\n",
    "\n",
    "# Split the cleaned text\n",
    "chunks = split_into_chunks(cleaned_text_without_period)"
   ]
  },
  {
   "cell_type": "code",
   "execution_count": 12,
   "metadata": {},
   "outputs": [
    {
     "name": "stdout",
     "output_type": "stream",
     "text": [
      "نظر آئیں گے جبکہ 35 سے 25 ہزار برس پہلے والے نقشے میں آپ کو سندھ کے میدانی اور ریگستانی حصے چولستان اور کچھ پانی کے نیچے نظر آئیں گے اور باقی بہت سارے علاقوں سے پانی زمین کو چھوڑ چکا ہے ایسے منظرنامے کو ذہن میں رکھ کر مانیک بی پٹھاوالا Maneck B Pithawala تحقیق پر مبنی اپنی تحریر میں لکھتے ہیں کہ یہ ماحول انسان کی خوراک اور ترقی کے لیے انتہائی شاندار تھا 35 سے 25 ہزار برس پہلے والے نقشے ڈاکٹر عبدالرؤف صاحب سے پہلے ہیو ٹریور لیمبرک Hugh Trevor Lambric نے انتہائی تفصیل سے سندھ کی ارضیات اور اس کی تاریخ اور تاریخی مقامات پر تحقیق کی نانی گوپال ماجمدر Nani Gopal Majumdar نے اس پہاڑی سلسلے کی تاریخ سے پہلے کے مقامات کی کھدائی اور سروے کیا تھا 1976ء میں کیمبرج یونیورسٹی سے پاکستان آرکیالوجی پر کام کرنے کے لیے آرکیالوجسٹ بریجٹ الچن Bridget Allchin اپنے شوہر آلچن کے ہمراہ یہاں آئی اور اس نے تقریبا پورے پاکستان میں تحقیقی کام کیا اس حوالے سے اس کی کتاب دی رائز اف سیویلائزیشن ان انڈیا اینڈ پاکستان شائع ہوئی جس میں انہوں نے پاکستان کی آرکیالوجی سائٹس کے حوالے سے انتہائی اہم تحقیق کی اور تحقیق کی بنیاد پر کہا کہ یہاں خاص طور پر سندھو گھاٹی کے جنوبی اور مغربی کنارے کے اطراف جن میں ملیر اور لیاری ندی کے بیچ اور اس سے مغرب حب لسبیلہ اور شمال بلوچستان میں آخری پلائسیٹوسین پیلیولیتھک لوگوں کے رہنے کے لیے مناسب ماحول تھا کیونکہ یہاں کے جغرافیائی حالات جو دریائے سندھ کے بہاؤ کی وجہ سے تخلیق ہوئے تھے ان میں جنوب مغرب میں میسولیتھک اور پیلیولیتھک صنعتیں موجود تھیں ہولوسینو زمانے میں انسانی بستی دریائے سندھ کے بہاؤ کے مغرب میں سلیمان اور کھیرتھر کے پہاڑی سلسلے ہیں جبکہ اس کے مشرق میں ریگستان کا ایک وسیع بیلٹ ہے دریا نے ان دونوں کے بیچ میں اپنے بہاؤ کے ساتھ لائی ہوئی مٹی کی ایک زرخیز تہہ جمائی جو دونوں طرف رہنے والوں کے لیے ایک پرکشش علاقہ بنا ہوگا کیونکہ میٹھے پانی کے ساتھ گھنے جنگلات جنگلی حیات اور نباتات کی ایک وسیع کائنات اس میں سمائی ہوئی تھی اس محقق جوڑے نے جنوبی بلوچستان میں بالاکوٹ سندھ میں کراچی گجو اونگر حیدرآباد عمرکوٹ کوٹڈیجی روہڑی موہن جو دڑو آمری شمالی بلوچستان میں جھڈیر مہرگڑھ پیرک سبی پنجاب میں ملتان سے دیرہ جات گومل لاہور ٹیکسلا پشاور تک تحقیقی کام کیا تھا اس لیے اس کی رائے کی خاص اہمیت ہے اس سفر میں ہم جب سندھو گھاٹی تہذیب اور زرعی بستیوں کی بات کریں گے تو ہمیں امید ہے کہ بریجٹ اور آلچن ہماری ضرور مدد کریں گے اب ہم پروفیسر عبدالرؤف خان کی تحقیقی رپورٹ کی بات کرتے ہیں جو جنوبی سندھ کے سمندری کنارے اور برساتی ندیوں یہاں قدیم انسان اور ماحول کے حوالے سے انتہائی اہم تحقیق ہے چونکہ یہ ایک طویل رپورٹ ہے جس کو مکمل طور پر یہاں بیان کرنا ممکن نہیں ہے تو کوشش کرتے ہیں کہ اس کا لب لباب یہاں بیان کیا جا سکے اس تحقیق سے یہ سمجھنے میں آسانی رہتی ہے کہ منگھو پیر\n"
     ]
    }
   ],
   "source": [
    "# Index of the chunk you want to print (e.g., 1 for the second chunk)\n",
    "chunk_index = 1  # Change this to the index you want to print\n",
    "\n",
    "# Print the specified chunk\n",
    "if 0 <= chunk_index < len(chunks):\n",
    "    print(chunks[chunk_index])\n",
    "else:\n",
    "    print(\"Chunk index out of range.\")"
   ]
  },
  {
   "cell_type": "code",
   "execution_count": 9,
   "metadata": {},
   "outputs": [
    {
     "name": "stderr",
     "output_type": "stream",
     "text": [
      "Some weights of BertForTokenClassification were not initialized from the model checkpoint at bert-base-multilingual-cased and are newly initialized: ['classifier.bias', 'classifier.weight']\n",
      "You should probably TRAIN this model on a down-stream task to be able to use it for predictions and inference.\n"
     ]
    }
   ],
   "source": [
    "import numpy as np\n",
    "from transformers import BertTokenizer, BertForTokenClassification\n",
    "import torch\n",
    "\n",
    "# 1. Load BERT tokenizer and model\n",
    "tokenizer = BertTokenizer.from_pretrained('bert-base-multilingual-cased')\n",
    "model = BertForTokenClassification.from_pretrained('bert-base-multilingual-cased')"
   ]
  },
  {
   "cell_type": "code",
   "execution_count": 14,
   "metadata": {},
   "outputs": [
    {
     "name": "stdout",
     "output_type": "stream",
     "text": [
      "اس سلسلے کی دیگر اقساط یہاں پڑھیے یہ\n",
      "کیسے ممکن ہے کہ کسی کا مستقبل ماضی کے بغیر ہو کیونکہ دن دن سے اور پل پل سے جڑا ہوتا ہے جس طرح ہم گزرے دن کو بھی کل کہتے ہیں اور آنے والے دن کو بھی کل کہتے ہیں اس لیے کیونکہ کل اور کل میں جو آج ہے وہ ایک کڑی ہے جو دونوں کو اپس میں جوڑ کر رکھتی ہے تو ہم اگر کبھی تنہائی میں کچھ پل نکال کر سوچیں کہ ہماری جتنی بھی\n",
      "زندگی گزری خواہ وہ\n",
      "24 برس ہو 64 کی یا 84\n",
      "برس ہو ہم یہ حیات اسی صورت میں گزار پاتے ہیں جب ہم اپنے گزرے\n",
      "برسوں اور\n",
      "شب و\n",
      "روز سے جڑے رہتے ہیں اگر لوگوں قوموں اور تہذیبوں سے ان کا ماضی چھین لیا جائے تو وہ شاید زیادہ عرصہ زندہ نہیں رہ پائیں گی ان میں آگے بڑھنے کی چاہت ختم ہوجائے گی تگ و دو کا جوہر ان سے چھن جائے گا بالکل ایسے جیسے کسی وجود کو الزائمر کی بیماری لگتی ہے اور اس کی یادداشت کے خلیے بے جان ہونے لگتے ہیں آپ یہ سمجھیں کہ یہ بیماری اس سے اس کا ماضی چھین لیتی ہے اور وہ اسی کیفیت میں زیادہ زندگی نہیں جی سکے گا اور اگر جیے گا بھی تو حیات کے ان رنگوں ذائقوں\n",
      "اور کیفیتوں کے ریگستان میں جہاں موت کی ویرانی کے سوا کچھ نہیں بچتا نہ رنگوں کے پھول کھلتے ہیں نہ ذائقوں کی خوشبو کا کوئی جھونکا آتا ہے اور نہ غم و خوشی کی کوئی فاختہ اڑتی ہے اور نہ آسمان کی نیلاہٹ کے گہرے رنگ میں کشش کی کوئی ناؤ چلتی ہے بس ایک بے رنگ\n",
      "اور\n",
      "بے ذائقہ حیات ہمارا آج کا سفر بھی سمندر کنارے اور ان پہاڑیوں کے جنگلات آبشاروں غاروں اور قدامت کی ان پگڈنڈیوں پر ہی ہے مگر اج ہمیں ڈاکٹر عبدالرؤف\n",
      "کی کراچی ریجن پر کی گئی تحقیق اور اس تحقیق پر پاؤلو بیگی کی تازہ تحقیق پر تفصیلی بات کرنی تھی لیکن\n",
      "جیسے ہی ہم سفر کرنے کی تیاری میں تھے تو ہمارے ساتھیوں میں سے کسی نے دو تین سوال کر ڈالے کہ کھیرتھر کے اس پہاڑی سلسلے پر ارتقا کا عمل کتنا قدیم ہوسکتا ہے اور ڈاکٹر عبدالرؤف سے پہلے بھی کراچی پر اس حوالے سے تحقیق ہوئی ہے یا نہیں مختلف زمانوں کے نام اور ان کی عمریںتصویر ایکس یہ سوالات اپنی جگہ\n",
      "پر\n",
      "اہم ہیں اور ان سوالات کا جواب ڈاکٹر صاحب کی رپورٹ اینشیئنٹ سیٹلمنٹس ان کراچی ریجن Ancient Settlements in Karachi Region میں ضرور موجود ہوگا مگر میں یہاں ہربرٹ جارج ویلز Herbert George Wells کی مشہور تحقیقی کتاب دی اؤٹ لائن اف ہسٹری سے دو نقشے آپ کے سامنے پیش کررہا ہوں جو\n",
      "آج سے 25 اور 50 ہزار سال پہلے کے جغرافیائی حالات کو ظاہر کرتے ہیں 50 ہزار سال\n",
      "پہلے کا نقشہ\n",
      "50 ہزار برس پہلے والے نقشے کو\n",
      "دیکھیں گے تو آپ کو میدانی اور ریگستانی سندھ پورا پنجاب گنگا گھاٹی پانی کے نیچے نظر آئیں گے جبکہ\n",
      "سندھ کے مغربی اونچائی والے پہاڑی سلسلے اور بلوچستان آپ کو پانی سے آزاد\n"
     ]
    }
   ],
   "source": [
    "# Store the words for sentence reconstruction\n",
    "words = cleaned_text_without_period.split()\n",
    "\n",
    "# Initialize a list to hold the detected sentences\n",
    "sentences = []\n",
    "\n",
    "# Process only the first chunk\n",
    "if chunks:  # Check if there are any chunks\n",
    "    chunk = chunks[0]  # Get the first chunk\n",
    "    inputs = tokenizer(chunk, truncation=True, max_length=512, return_tensors='pt')\n",
    "    \n",
    "    # Get the output logits from the BERT model\n",
    "    outputs = model(**inputs)\n",
    "    logits = outputs.logits\n",
    "\n",
    "    # Apply a classification threshold for sentence boundary detection\n",
    "    sentence_end_threshold = 0.6  \n",
    "    # Convert logits to probabilities (using sigmoid)\n",
    "    predictions = torch.sigmoid(logits)\n",
    "\n",
    "    # Get positions where tokens are predicted as sentence ends (based on threshold)\n",
    "    sentence_end_positions = predictions[:, :, 1] > sentence_end_threshold  \n",
    "    # Reconstruct sentences based on the detected sentence-end tokens\n",
    "    current_sentence = []\n",
    "\n",
    "    for i, word in enumerate(chunk.split()):  \n",
    "        current_sentence.append(word)\n",
    "        if sentence_end_positions[0][i]: \n",
    "            sentences.append(\" \".join(current_sentence))\n",
    "            current_sentence = []\n",
    "\n",
    "    # Append the final sentence if it wasn't completed\n",
    "    if current_sentence:\n",
    "        sentences.append(\" \".join(current_sentence))\n",
    "\n",
    "# Output the sentences detected in the first chunk\n",
    "for sentence in sentences:\n",
    "    print(sentence)"
   ]
  },
  {
   "cell_type": "code",
   "execution_count": 15,
   "metadata": {},
   "outputs": [
    {
     "name": "stdout",
     "output_type": "stream",
     "text": [
      "sentence1: اس سلسلے کی دیگر اقساط یہاں پڑھیے یہ\n",
      "sentence2: کیسے ممکن ہے کہ کسی کا مستقبل ماضی کے بغیر ہو کیونکہ دن دن سے اور پل پل سے جڑا ہوتا ہے جس طرح ہم گزرے دن کو بھی کل کہتے ہیں اور آنے والے دن کو بھی کل کہتے ہیں اس لیے کیونکہ کل اور کل میں جو آج ہے وہ ایک کڑی ہے جو دونوں کو اپس میں جوڑ کر رکھتی ہے تو ہم اگر کبھی تنہائی میں کچھ پل نکال کر سوچیں کہ ہماری جتنی بھی\n",
      "sentence3: زندگی گزری خواہ وہ\n",
      "sentence4: 24 برس ہو 64 کی یا 84\n",
      "sentence5: برس ہو ہم یہ حیات اسی صورت میں گزار پاتے ہیں جب ہم اپنے گزرے\n",
      "sentence6: برسوں اور\n",
      "sentence7: شب و\n",
      "sentence8: روز سے جڑے رہتے ہیں اگر لوگوں قوموں اور تہذیبوں سے ان کا ماضی چھین لیا جائے تو وہ شاید زیادہ عرصہ زندہ نہیں رہ پائیں گی ان میں آگے بڑھنے کی چاہت ختم ہوجائے گی تگ و دو کا جوہر ان سے چھن جائے گا بالکل ایسے جیسے کسی وجود کو الزائمر کی بیماری لگتی ہے اور اس کی یادداشت کے خلیے بے جان ہونے لگتے ہیں آپ یہ سمجھیں کہ یہ بیماری اس سے اس کا ماضی چھین لیتی ہے اور وہ اسی کیفیت میں زیادہ زندگی نہیں جی سکے گا اور اگر جیے گا بھی تو حیات کے ان رنگوں ذائقوں\n",
      "sentence9: اور کیفیتوں کے ریگستان میں جہاں موت کی ویرانی کے سوا کچھ نہیں بچتا نہ رنگوں کے پھول کھلتے ہیں نہ ذائقوں کی خوشبو کا کوئی جھونکا آتا ہے اور نہ غم و خوشی کی کوئی فاختہ اڑتی ہے اور نہ آسمان کی نیلاہٹ کے گہرے رنگ میں کشش کی کوئی ناؤ چلتی ہے بس ایک بے رنگ\n",
      "sentence10: اور\n",
      "sentence11: بے ذائقہ حیات ہمارا آج کا سفر بھی سمندر کنارے اور ان پہاڑیوں کے جنگلات آبشاروں غاروں اور قدامت کی ان پگڈنڈیوں پر ہی ہے مگر اج ہمیں ڈاکٹر عبدالرؤف\n",
      "sentence12: کی کراچی ریجن پر کی گئی تحقیق اور اس تحقیق پر پاؤلو بیگی کی تازہ تحقیق پر تفصیلی بات کرنی تھی لیکن\n",
      "sentence13: جیسے ہی ہم سفر کرنے کی تیاری میں تھے تو ہمارے ساتھیوں میں سے کسی نے دو تین سوال کر ڈالے کہ کھیرتھر کے اس پہاڑی سلسلے پر ارتقا کا عمل کتنا قدیم ہوسکتا ہے اور ڈاکٹر عبدالرؤف سے پہلے بھی کراچی پر اس حوالے سے تحقیق ہوئی ہے یا نہیں مختلف زمانوں کے نام اور ان کی عمریںتصویر ایکس یہ سوالات اپنی جگہ\n",
      "sentence14: پر\n",
      "sentence15: اہم ہیں اور ان سوالات کا جواب ڈاکٹر صاحب کی رپورٹ اینشیئنٹ سیٹلمنٹس ان کراچی ریجن Ancient Settlements in Karachi Region میں ضرور موجود ہوگا مگر میں یہاں ہربرٹ جارج ویلز Herbert George Wells کی مشہور تحقیقی کتاب دی اؤٹ لائن اف ہسٹری سے دو نقشے آپ کے سامنے پیش کررہا ہوں جو\n",
      "sentence16: آج سے 25 اور 50 ہزار سال پہلے کے جغرافیائی حالات کو ظاہر کرتے ہیں 50 ہزار سال\n",
      "sentence17: پہلے کا نقشہ\n",
      "sentence18: 50 ہزار برس پہلے والے نقشے کو\n",
      "sentence19: دیکھیں گے تو آپ کو میدانی اور ریگستانی سندھ پورا پنجاب گنگا گھاٹی پانی کے نیچے نظر آئیں گے جبکہ\n",
      "sentence20: سندھ کے مغربی اونچائی والے پہاڑی سلسلے اور بلوچستان آپ کو پانی سے آزاد\n"
     ]
    }
   ],
   "source": [
    "# Output the sentences in the desired format\n",
    "for idx, sentence in enumerate(sentences, start=1):\n",
    "    print(f\"sentence{idx}: {sentence}\")"
   ]
  },
  {
   "cell_type": "code",
   "execution_count": 16,
   "metadata": {},
   "outputs": [
    {
     "name": "stdout",
     "output_type": "stream",
     "text": [
      "Number of chunks: 484\n"
     ]
    }
   ],
   "source": [
    "# Check the number of chunks\n",
    "num_chunks = len(chunks)\n",
    "print(f\"Number of chunks: {num_chunks}\")"
   ]
  },
  {
   "cell_type": "code",
   "execution_count": 17,
   "metadata": {},
   "outputs": [],
   "source": [
    "# now doing the same for the rest of the chunks \n",
    "# Initialize a list to hold the detected sentences\n",
    "sentences = []\n",
    "\n",
    "# Process all chunks\n",
    "for chunk in chunks:\n",
    "    inputs = tokenizer(chunk, truncation=True, max_length=512, return_tensors='pt')\n",
    "    \n",
    "    # Get the output logits from the BERT model\n",
    "    outputs = model(**inputs)\n",
    "    logits = outputs.logits\n",
    "\n",
    "    # Apply a classification threshold for sentence boundary detection\n",
    "    sentence_end_threshold = 0.6  # Adjust based on your use case\n",
    "\n",
    "    # Convert logits to probabilities (using sigmoid)\n",
    "    predictions = torch.sigmoid(logits)\n",
    "\n",
    "    # Get positions where tokens are predicted as sentence ends (based on threshold)\n",
    "    sentence_end_positions = predictions[:, :, 1] > sentence_end_threshold  \n",
    "\n",
    "    # Reconstruct sentences based on the detected sentence-end tokens\n",
    "    current_sentence = []\n",
    "\n",
    "    for i, word in enumerate(chunk.split()):  \n",
    "        current_sentence.append(word)\n",
    "        if sentence_end_positions[0][i]:  \n",
    "            sentences.append(\" \".join(current_sentence))\n",
    "            current_sentence = []\n",
    "\n",
    "    # Append the final sentence if it wasn't completed\n",
    "    if current_sentence:\n",
    "        sentences.append(\" \".join(current_sentence))\n"
   ]
  },
  {
   "cell_type": "code",
   "execution_count": 18,
   "metadata": {},
   "outputs": [
    {
     "name": "stdout",
     "output_type": "stream",
     "text": [
      "Sentence 1: اس سلسلے کی دیگر اقساط یہاں پڑھیے یہ\n",
      "Sentence 2: کیسے ممکن ہے کہ کسی کا مستقبل ماضی کے بغیر ہو کیونکہ دن دن سے اور پل پل سے جڑا ہوتا ہے جس طرح ہم گزرے دن کو بھی کل کہتے ہیں اور آنے والے دن کو بھی کل کہتے ہیں اس لیے کیونکہ کل اور کل میں جو آج ہے وہ ایک کڑی ہے جو دونوں کو اپس میں جوڑ کر رکھتی ہے تو ہم اگر کبھی تنہائی میں کچھ پل نکال کر سوچیں کہ ہماری جتنی بھی\n",
      "Sentence 3: زندگی گزری خواہ وہ\n",
      "Sentence 4: 24 برس ہو 64 کی یا 84\n",
      "Sentence 5: برس ہو ہم یہ حیات اسی صورت میں گزار پاتے ہیں جب ہم اپنے گزرے\n",
      "Sentence 6: برسوں اور\n",
      "Sentence 7: شب و\n",
      "Sentence 8: روز سے جڑے رہتے ہیں اگر لوگوں قوموں اور تہذیبوں سے ان کا ماضی چھین لیا جائے تو وہ شاید زیادہ عرصہ زندہ نہیں رہ پائیں گی ان میں آگے بڑھنے کی چاہت ختم ہوجائے گی تگ و دو کا جوہر ان سے چھن جائے گا بالکل ایسے جیسے کسی وجود کو الزائمر کی بیماری لگتی ہے اور اس کی یادداشت کے خلیے بے جان ہونے لگتے ہیں آپ یہ سمجھیں کہ یہ بیماری اس سے اس کا ماضی چھین لیتی ہے اور وہ اسی کیفیت میں زیادہ زندگی نہیں جی سکے گا اور اگر جیے گا بھی تو حیات کے ان رنگوں ذائقوں\n",
      "Sentence 9: اور کیفیتوں کے ریگستان میں جہاں موت کی ویرانی کے سوا کچھ نہیں بچتا نہ رنگوں کے پھول کھلتے ہیں نہ ذائقوں کی خوشبو کا کوئی جھونکا آتا ہے اور نہ غم و خوشی کی کوئی فاختہ اڑتی ہے اور نہ آسمان کی نیلاہٹ کے گہرے رنگ میں کشش کی کوئی ناؤ چلتی ہے بس ایک بے رنگ\n",
      "Sentence 10: اور\n"
     ]
    }
   ],
   "source": [
    "# Output the first few sentences detected in all chunks\n",
    "num_sentences_to_print = 10 \n",
    "\n",
    "# Print only the first few sentences\n",
    "for i, sentence in enumerate(sentences):\n",
    "    if i >= num_sentences_to_print:\n",
    "        break\n",
    "    print(f\"Sentence {i+1}: {sentence}\")\n"
   ]
  },
  {
   "cell_type": "code",
   "execution_count": 19,
   "metadata": {},
   "outputs": [
    {
     "name": "stdout",
     "output_type": "stream",
     "text": [
      "Total number of sentences detected: 15810\n"
     ]
    }
   ],
   "source": [
    "# Output the total number of sentences detected\n",
    "total_sentences = len(sentences)\n",
    "print(f\"Total number of sentences detected: {total_sentences}\")"
   ]
  }
 ],
 "metadata": {
  "kernelspec": {
   "display_name": "Python 3",
   "language": "python",
   "name": "python3"
  },
  "language_info": {
   "codemirror_mode": {
    "name": "ipython",
    "version": 3
   },
   "file_extension": ".py",
   "mimetype": "text/x-python",
   "name": "python",
   "nbconvert_exporter": "python",
   "pygments_lexer": "ipython3",
   "version": "3.10.7"
  }
 },
 "nbformat": 4,
 "nbformat_minor": 2
}

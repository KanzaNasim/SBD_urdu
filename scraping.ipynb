{
 "cells": [
  {
   "cell_type": "code",
   "execution_count": 24,
   "metadata": {},
   "outputs": [
    {
     "name": "stdout",
     "output_type": "stream",
     "text": [
      "The token has not been saved to the git credentials helper. Pass `add_to_git_credential=True` in this function directly or `--add-to-git-credential` if using via `huggingface-cli` if you want to set the git credential as well.\n",
      "Token is valid (permission: write).\n",
      "Your token has been saved to C:\\Users\\Kanza Nasim\\.cache\\huggingface\\token\n",
      "Login successful\n",
      "Failed to load dataset from KANZOO/scrapped_articles: name 'load_dataset' is not defined\n"
     ]
    },
    {
     "name": "stderr",
     "output_type": "stream",
     "text": [
      "Creating parquet from Arrow format: 100%|██████████| 1/1 [00:00<00:00, 148.67ba/s]\n",
      "Uploading the dataset shards: 100%|██████████| 1/1 [00:04<00:00,  4.36s/it]\n"
     ]
    }
   ],
   "source": [
    "from newspaper import Article\n",
    "from datasets import Dataset\n",
    "import pandas as pd\n",
    "from huggingface_hub import login\n",
    "import os\n",
    "from dotenv import load_dotenv\n",
    "\n",
    "load_dotenv()\n",
    "HF_KEY = os.getenv(\"HF_KEY\")\n",
    "login(HF_KEY)\n",
    "\n",
    "def scrape_articles_to_dataset(article_urls):\n",
    "    data = {\n",
    "        \"title\": [],\n",
    "        \"text\": [],\n",
    "    }\n",
    "    \n",
    "    for url in article_urls:\n",
    "        try:\n",
    "            # Create an Article object\n",
    "            article = Article(url, language='ar')  # Assuming Urdu or Arabic\n",
    "            article.download()\n",
    "            article.parse()\n",
    "            \n",
    "            # Add title and text to data\n",
    "            data[\"title\"].append(article.title)\n",
    "            data[\"text\"].append(article.text)\n",
    "        except Exception as e:\n",
    "            print(f\"Failed to scrape {url}: {e}\")\n",
    "    \n",
    "    # Create a Hugging Face dataset\n",
    "    dataset = Dataset.from_dict(data)\n",
    "    \n",
    "    return dataset\n",
    "\n",
    "def append_and_push_dataset(article_urls, hub_repo):\n",
    "    try:\n",
    "        existing_dataset = load_dataset(hub_repo)\n",
    "        existing_df = pd.DataFrame(existing_dataset['train'])\n",
    "    except Exception as e:\n",
    "        print(f\"Failed to load dataset from {hub_repo}: {e}\")\n",
    "        existing_df = pd.DataFrame(columns=[\"title\", \"text\"])\n",
    "\n",
    "    # Step 2: Scrape new articles\n",
    "    new_dataset = scrape_articles_to_dataset(article_urls)\n",
    "    \n",
    "    # Convert the new dataset to a DataFrame for easier appending\n",
    "    new_df = pd.DataFrame(new_dataset)\n",
    "\n",
    "    # Step 3: Append the new rows to the existing dataset\n",
    "    updated_df = pd.concat([existing_df, new_df], ignore_index=True)\n",
    "\n",
    "    # Step 4: Convert the updated DataFrame back to a Hugging Face Dataset\n",
    "    updated_dataset = Dataset.from_pandas(updated_df)\n",
    "    \n",
    "    # Step 5: Push the updated dataset back to Hugging Face Hub\n",
    "    updated_dataset.push_to_hub(hub_repo)\n",
    "\n",
    "article_urls = [\n",
    "    \"https://jang.com.pk/news/1394720\",\n",
    "    \"https://jang.com.pk/news/1394722\",\n",
    "    \"https://jang.com.pk/news/1394784\",\n",
    "    \"https://jang.com.pk/news/1394721\",\n",
    "]\n",
    "\n",
    "hub_repo = \"KANZOO/scrapped_articles\"  # Replace with your Hugging Face repository\n",
    "\n",
    "append_and_push_dataset(article_urls, hub_repo)"
   ]
  }
 ],
 "metadata": {
  "kernelspec": {
   "display_name": "Python 3",
   "language": "python",
   "name": "python3"
  },
  "language_info": {
   "codemirror_mode": {
    "name": "ipython",
    "version": 3
   },
   "file_extension": ".py",
   "mimetype": "text/x-python",
   "name": "python",
   "nbconvert_exporter": "python",
   "pygments_lexer": "ipython3",
   "version": "3.10.7"
  }
 },
 "nbformat": 4,
 "nbformat_minor": 2
}

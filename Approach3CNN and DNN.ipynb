{
 "cells": [
  {
   "cell_type": "markdown",
   "metadata": {},
   "source": [
    "### Approach 3: CNN and DNN"
   ]
  },
  {
   "cell_type": "code",
   "execution_count": 1,
   "metadata": {
    "execution": {
     "iopub.execute_input": "2024-12-27T13:52:38.383000Z",
     "iopub.status.busy": "2024-12-27T13:52:38.382748Z",
     "iopub.status.idle": "2024-12-27T13:52:39.594938Z",
     "shell.execute_reply": "2024-12-27T13:52:39.594125Z",
     "shell.execute_reply.started": "2024-12-27T13:52:38.382967Z"
    },
    "trusted": true
   },
   "outputs": [],
   "source": [
    "import pandas as pd"
   ]
  },
  {
   "cell_type": "code",
   "execution_count": 2,
   "metadata": {
    "execution": {
     "iopub.execute_input": "2024-12-27T13:52:43.018140Z",
     "iopub.status.busy": "2024-12-27T13:52:43.017794Z",
     "iopub.status.idle": "2024-12-27T13:52:43.510120Z",
     "shell.execute_reply": "2024-12-27T13:52:43.509221Z",
     "shell.execute_reply.started": "2024-12-27T13:52:43.018110Z"
    },
    "trusted": true
   },
   "outputs": [
    {
     "data": {
      "text/html": [
       "<div>\n",
       "<style scoped>\n",
       "    .dataframe tbody tr th:only-of-type {\n",
       "        vertical-align: middle;\n",
       "    }\n",
       "\n",
       "    .dataframe tbody tr th {\n",
       "        vertical-align: top;\n",
       "    }\n",
       "\n",
       "    .dataframe thead th {\n",
       "        text-align: right;\n",
       "    }\n",
       "</style>\n",
       "<table border=\"1\" class=\"dataframe\">\n",
       "  <thead>\n",
       "    <tr style=\"text-align: right;\">\n",
       "      <th></th>\n",
       "      <th>id</th>\n",
       "      <th>text</th>\n",
       "      <th>lemma</th>\n",
       "      <th>upos</th>\n",
       "      <th>xpos</th>\n",
       "      <th>head</th>\n",
       "      <th>deprel</th>\n",
       "      <th>start_char</th>\n",
       "      <th>end_char</th>\n",
       "    </tr>\n",
       "  </thead>\n",
       "  <tbody>\n",
       "    <tr>\n",
       "      <th>0</th>\n",
       "      <td>1</td>\n",
       "      <td>اس</td>\n",
       "      <td>یہ</td>\n",
       "      <td>DET</td>\n",
       "      <td>DEM</td>\n",
       "      <td>2</td>\n",
       "      <td>det</td>\n",
       "      <td>0</td>\n",
       "      <td>2</td>\n",
       "    </tr>\n",
       "    <tr>\n",
       "      <th>1</th>\n",
       "      <td>2</td>\n",
       "      <td>سلسلے</td>\n",
       "      <td>سلسلہ</td>\n",
       "      <td>NOUN</td>\n",
       "      <td>NN</td>\n",
       "      <td>5</td>\n",
       "      <td>nmod</td>\n",
       "      <td>3</td>\n",
       "      <td>8</td>\n",
       "    </tr>\n",
       "    <tr>\n",
       "      <th>2</th>\n",
       "      <td>3</td>\n",
       "      <td>کی</td>\n",
       "      <td>کا</td>\n",
       "      <td>ADP</td>\n",
       "      <td>PSP</td>\n",
       "      <td>2</td>\n",
       "      <td>case</td>\n",
       "      <td>9</td>\n",
       "      <td>11</td>\n",
       "    </tr>\n",
       "    <tr>\n",
       "      <th>3</th>\n",
       "      <td>4</td>\n",
       "      <td>دیگر</td>\n",
       "      <td>دیگر</td>\n",
       "      <td>ADJ</td>\n",
       "      <td>JJ</td>\n",
       "      <td>5</td>\n",
       "      <td>amod</td>\n",
       "      <td>12</td>\n",
       "      <td>16</td>\n",
       "    </tr>\n",
       "    <tr>\n",
       "      <th>4</th>\n",
       "      <td>5</td>\n",
       "      <td>اقساط</td>\n",
       "      <td>اقساط</td>\n",
       "      <td>NOUN</td>\n",
       "      <td>NN</td>\n",
       "      <td>7</td>\n",
       "      <td>nsubj</td>\n",
       "      <td>17</td>\n",
       "      <td>22</td>\n",
       "    </tr>\n",
       "  </tbody>\n",
       "</table>\n",
       "</div>"
      ],
      "text/plain": [
       "   id   text  lemma  upos xpos  head deprel  start_char  end_char\n",
       "0   1     اس     یہ   DET  DEM     2    det           0         2\n",
       "1   2  سلسلے  سلسلہ  NOUN   NN     5   nmod           3         8\n",
       "2   3     کی     کا   ADP  PSP     2   case           9        11\n",
       "3   4   دیگر   دیگر   ADJ   JJ     5   amod          12        16\n",
       "4   5  اقساط  اقساط  NOUN   NN     7  nsubj          17        22"
      ]
     },
     "execution_count": 2,
     "metadata": {},
     "output_type": "execute_result"
    }
   ],
   "source": [
    "# Read the CSV file\n",
    "df = pd.read_csv('/kaggle/input/sbd-data/dataset.csv')\n",
    "\n",
    "df.head()"
   ]
  },
  {
   "cell_type": "code",
   "execution_count": 3,
   "metadata": {
    "execution": {
     "iopub.execute_input": "2024-12-27T13:52:46.564883Z",
     "iopub.status.busy": "2024-12-27T13:52:46.564155Z",
     "iopub.status.idle": "2024-12-27T13:52:46.595658Z",
     "shell.execute_reply": "2024-12-27T13:52:46.594776Z",
     "shell.execute_reply.started": "2024-12-27T13:52:46.564847Z"
    },
    "trusted": true
   },
   "outputs": [],
   "source": [
    "data = df.drop(columns=['id'])"
   ]
  },
  {
   "cell_type": "code",
   "execution_count": 4,
   "metadata": {
    "execution": {
     "iopub.execute_input": "2024-12-27T13:52:48.619260Z",
     "iopub.status.busy": "2024-12-27T13:52:48.618939Z",
     "iopub.status.idle": "2024-12-27T13:52:48.623067Z",
     "shell.execute_reply": "2024-12-27T13:52:48.622175Z",
     "shell.execute_reply.started": "2024-12-27T13:52:48.619229Z"
    },
    "trusted": true
   },
   "outputs": [],
   "source": [
    "import string\n",
    "import re"
   ]
  },
  {
   "cell_type": "code",
   "execution_count": 5,
   "metadata": {
    "execution": {
     "iopub.execute_input": "2024-12-27T13:52:50.619348Z",
     "iopub.status.busy": "2024-12-27T13:52:50.618311Z",
     "iopub.status.idle": "2024-12-27T13:52:54.074770Z",
     "shell.execute_reply": "2024-12-27T13:52:54.073849Z",
     "shell.execute_reply.started": "2024-12-27T13:52:50.619275Z"
    },
    "trusted": true
   },
   "outputs": [
    {
     "data": {
      "text/html": [
       "<div>\n",
       "<style scoped>\n",
       "    .dataframe tbody tr th:only-of-type {\n",
       "        vertical-align: middle;\n",
       "    }\n",
       "\n",
       "    .dataframe tbody tr th {\n",
       "        vertical-align: top;\n",
       "    }\n",
       "\n",
       "    .dataframe thead th {\n",
       "        text-align: right;\n",
       "    }\n",
       "</style>\n",
       "<table border=\"1\" class=\"dataframe\">\n",
       "  <thead>\n",
       "    <tr style=\"text-align: right;\">\n",
       "      <th></th>\n",
       "      <th>text</th>\n",
       "      <th>lemma</th>\n",
       "      <th>upos</th>\n",
       "      <th>xpos</th>\n",
       "      <th>head</th>\n",
       "      <th>deprel</th>\n",
       "      <th>start_char</th>\n",
       "      <th>end_char</th>\n",
       "      <th>y</th>\n",
       "    </tr>\n",
       "  </thead>\n",
       "  <tbody>\n",
       "    <tr>\n",
       "      <th>0</th>\n",
       "      <td>اس</td>\n",
       "      <td>یہ</td>\n",
       "      <td>DET</td>\n",
       "      <td>DEM</td>\n",
       "      <td>2</td>\n",
       "      <td>det</td>\n",
       "      <td>0</td>\n",
       "      <td>2</td>\n",
       "      <td>0</td>\n",
       "    </tr>\n",
       "    <tr>\n",
       "      <th>1</th>\n",
       "      <td>سلسلے</td>\n",
       "      <td>سلسلہ</td>\n",
       "      <td>NOUN</td>\n",
       "      <td>NN</td>\n",
       "      <td>5</td>\n",
       "      <td>nmod</td>\n",
       "      <td>3</td>\n",
       "      <td>8</td>\n",
       "      <td>0</td>\n",
       "    </tr>\n",
       "    <tr>\n",
       "      <th>2</th>\n",
       "      <td>کی</td>\n",
       "      <td>کا</td>\n",
       "      <td>ADP</td>\n",
       "      <td>PSP</td>\n",
       "      <td>2</td>\n",
       "      <td>case</td>\n",
       "      <td>9</td>\n",
       "      <td>11</td>\n",
       "      <td>0</td>\n",
       "    </tr>\n",
       "    <tr>\n",
       "      <th>3</th>\n",
       "      <td>دیگر</td>\n",
       "      <td>دیگر</td>\n",
       "      <td>ADJ</td>\n",
       "      <td>JJ</td>\n",
       "      <td>5</td>\n",
       "      <td>amod</td>\n",
       "      <td>12</td>\n",
       "      <td>16</td>\n",
       "      <td>0</td>\n",
       "    </tr>\n",
       "    <tr>\n",
       "      <th>4</th>\n",
       "      <td>اقساط</td>\n",
       "      <td>اقساط</td>\n",
       "      <td>NOUN</td>\n",
       "      <td>NN</td>\n",
       "      <td>7</td>\n",
       "      <td>nsubj</td>\n",
       "      <td>17</td>\n",
       "      <td>22</td>\n",
       "      <td>0</td>\n",
       "    </tr>\n",
       "    <tr>\n",
       "      <th>5</th>\n",
       "      <td>یہاں</td>\n",
       "      <td>یہاں</td>\n",
       "      <td>PRON</td>\n",
       "      <td>PRP</td>\n",
       "      <td>7</td>\n",
       "      <td>obl</td>\n",
       "      <td>23</td>\n",
       "      <td>27</td>\n",
       "      <td>0</td>\n",
       "    </tr>\n",
       "    <tr>\n",
       "      <th>6</th>\n",
       "      <td>پڑھیے</td>\n",
       "      <td>پڑھ</td>\n",
       "      <td>VERB</td>\n",
       "      <td>VM</td>\n",
       "      <td>0</td>\n",
       "      <td>root</td>\n",
       "      <td>28</td>\n",
       "      <td>33</td>\n",
       "      <td>0</td>\n",
       "    </tr>\n",
       "    <tr>\n",
       "      <th>7</th>\n",
       "      <td>۔</td>\n",
       "      <td>۔</td>\n",
       "      <td>PUNCT</td>\n",
       "      <td>SYM</td>\n",
       "      <td>7</td>\n",
       "      <td>punct</td>\n",
       "      <td>33</td>\n",
       "      <td>34</td>\n",
       "      <td>0</td>\n",
       "    </tr>\n",
       "    <tr>\n",
       "      <th>8</th>\n",
       "      <td>یہ</td>\n",
       "      <td>یہ</td>\n",
       "      <td>PRON</td>\n",
       "      <td>PRP</td>\n",
       "      <td>3</td>\n",
       "      <td>nsubj</td>\n",
       "      <td>36</td>\n",
       "      <td>38</td>\n",
       "      <td>1</td>\n",
       "    </tr>\n",
       "    <tr>\n",
       "      <th>9</th>\n",
       "      <td>کیسے</td>\n",
       "      <td>کیسا</td>\n",
       "      <td>PRON</td>\n",
       "      <td>WQ</td>\n",
       "      <td>3</td>\n",
       "      <td>advmod</td>\n",
       "      <td>39</td>\n",
       "      <td>43</td>\n",
       "      <td>0</td>\n",
       "    </tr>\n",
       "  </tbody>\n",
       "</table>\n",
       "</div>"
      ],
      "text/plain": [
       "    text  lemma   upos xpos  head  deprel  start_char  end_char  y\n",
       "0     اس     یہ    DET  DEM     2     det           0         2  0\n",
       "1  سلسلے  سلسلہ   NOUN   NN     5    nmod           3         8  0\n",
       "2     کی     کا    ADP  PSP     2    case           9        11  0\n",
       "3   دیگر   دیگر    ADJ   JJ     5    amod          12        16  0\n",
       "4  اقساط  اقساط   NOUN   NN     7   nsubj          17        22  0\n",
       "5   یہاں   یہاں   PRON  PRP     7     obl          23        27  0\n",
       "6  پڑھیے    پڑھ   VERB   VM     0    root          28        33  0\n",
       "7      ۔      ۔  PUNCT  SYM     7   punct          33        34  0\n",
       "8     یہ     یہ   PRON  PRP     3   nsubj          36        38  1\n",
       "9   کیسے   کیسا   PRON   WQ     3  advmod          39        43  0"
      ]
     },
     "execution_count": 5,
     "metadata": {},
     "output_type": "execute_result"
    }
   ],
   "source": [
    "# Initialize a new column 'y' with the default value 'S_M'\n",
    "data['y'] = 'S_M'\n",
    "\n",
    "# Iterate through the rows to assign 'S_B'\n",
    "for i in range(len(data) - 1):\n",
    "    # Check if the current word ends with a full stop\n",
    "    if data.loc[i, 'text'].endswith('۔'):\n",
    "        # Assign 'S_B' to the next word\n",
    "        if i + 1 < len(data):\n",
    "            data.loc[i + 1, 'y'] = 'S_B'  # Sentence Beginning\n",
    "\n",
    "# Convert 'y' column to categorical type (optional, for ML efficiency)\n",
    "data['y'] = data['y'].astype('category')\n",
    "\n",
    "# Map categorical labels to numeric values\n",
    "label_mapping = {'S_B': 1, 'S_M': 0}\n",
    "data['y'] = data['y'].map(label_mapping)\n",
    "\n",
    "# Verify the result\n",
    "data.head(10)"
   ]
  },
  {
   "cell_type": "code",
   "execution_count": 6,
   "metadata": {
    "execution": {
     "iopub.execute_input": "2024-12-27T13:52:54.076471Z",
     "iopub.status.busy": "2024-12-27T13:52:54.076200Z",
     "iopub.status.idle": "2024-12-27T13:52:54.209531Z",
     "shell.execute_reply": "2024-12-27T13:52:54.208749Z",
     "shell.execute_reply.started": "2024-12-27T13:52:54.076446Z"
    },
    "trusted": true
   },
   "outputs": [
    {
     "data": {
      "text/html": [
       "<div>\n",
       "<style scoped>\n",
       "    .dataframe tbody tr th:only-of-type {\n",
       "        vertical-align: middle;\n",
       "    }\n",
       "\n",
       "    .dataframe tbody tr th {\n",
       "        vertical-align: top;\n",
       "    }\n",
       "\n",
       "    .dataframe thead th {\n",
       "        text-align: right;\n",
       "    }\n",
       "</style>\n",
       "<table border=\"1\" class=\"dataframe\">\n",
       "  <thead>\n",
       "    <tr style=\"text-align: right;\">\n",
       "      <th></th>\n",
       "      <th>text</th>\n",
       "      <th>lemma</th>\n",
       "      <th>upos</th>\n",
       "      <th>xpos</th>\n",
       "      <th>head</th>\n",
       "      <th>deprel</th>\n",
       "      <th>start_char</th>\n",
       "      <th>end_char</th>\n",
       "      <th>y</th>\n",
       "    </tr>\n",
       "  </thead>\n",
       "  <tbody>\n",
       "    <tr>\n",
       "      <th>0</th>\n",
       "      <td>اس</td>\n",
       "      <td>یہ</td>\n",
       "      <td>DET</td>\n",
       "      <td>DEM</td>\n",
       "      <td>2</td>\n",
       "      <td>det</td>\n",
       "      <td>0</td>\n",
       "      <td>2</td>\n",
       "      <td>0</td>\n",
       "    </tr>\n",
       "    <tr>\n",
       "      <th>1</th>\n",
       "      <td>سلسلے</td>\n",
       "      <td>سلسلہ</td>\n",
       "      <td>NOUN</td>\n",
       "      <td>NN</td>\n",
       "      <td>5</td>\n",
       "      <td>nmod</td>\n",
       "      <td>3</td>\n",
       "      <td>8</td>\n",
       "      <td>0</td>\n",
       "    </tr>\n",
       "    <tr>\n",
       "      <th>2</th>\n",
       "      <td>کی</td>\n",
       "      <td>کا</td>\n",
       "      <td>ADP</td>\n",
       "      <td>PSP</td>\n",
       "      <td>2</td>\n",
       "      <td>case</td>\n",
       "      <td>9</td>\n",
       "      <td>11</td>\n",
       "      <td>0</td>\n",
       "    </tr>\n",
       "    <tr>\n",
       "      <th>3</th>\n",
       "      <td>دیگر</td>\n",
       "      <td>دیگر</td>\n",
       "      <td>ADJ</td>\n",
       "      <td>JJ</td>\n",
       "      <td>5</td>\n",
       "      <td>amod</td>\n",
       "      <td>12</td>\n",
       "      <td>16</td>\n",
       "      <td>0</td>\n",
       "    </tr>\n",
       "    <tr>\n",
       "      <th>4</th>\n",
       "      <td>اقساط</td>\n",
       "      <td>اقساط</td>\n",
       "      <td>NOUN</td>\n",
       "      <td>NN</td>\n",
       "      <td>7</td>\n",
       "      <td>nsubj</td>\n",
       "      <td>17</td>\n",
       "      <td>22</td>\n",
       "      <td>0</td>\n",
       "    </tr>\n",
       "    <tr>\n",
       "      <th>5</th>\n",
       "      <td>یہاں</td>\n",
       "      <td>یہاں</td>\n",
       "      <td>PRON</td>\n",
       "      <td>PRP</td>\n",
       "      <td>7</td>\n",
       "      <td>obl</td>\n",
       "      <td>23</td>\n",
       "      <td>27</td>\n",
       "      <td>0</td>\n",
       "    </tr>\n",
       "    <tr>\n",
       "      <th>6</th>\n",
       "      <td>پڑھیے</td>\n",
       "      <td>پڑھ</td>\n",
       "      <td>VERB</td>\n",
       "      <td>VM</td>\n",
       "      <td>0</td>\n",
       "      <td>root</td>\n",
       "      <td>28</td>\n",
       "      <td>33</td>\n",
       "      <td>0</td>\n",
       "    </tr>\n",
       "    <tr>\n",
       "      <th>8</th>\n",
       "      <td>یہ</td>\n",
       "      <td>یہ</td>\n",
       "      <td>PRON</td>\n",
       "      <td>PRP</td>\n",
       "      <td>3</td>\n",
       "      <td>nsubj</td>\n",
       "      <td>36</td>\n",
       "      <td>38</td>\n",
       "      <td>1</td>\n",
       "    </tr>\n",
       "    <tr>\n",
       "      <th>9</th>\n",
       "      <td>کیسے</td>\n",
       "      <td>کیسا</td>\n",
       "      <td>PRON</td>\n",
       "      <td>WQ</td>\n",
       "      <td>3</td>\n",
       "      <td>advmod</td>\n",
       "      <td>39</td>\n",
       "      <td>43</td>\n",
       "      <td>0</td>\n",
       "    </tr>\n",
       "    <tr>\n",
       "      <th>10</th>\n",
       "      <td>ممکن</td>\n",
       "      <td>ممکن</td>\n",
       "      <td>ADJ</td>\n",
       "      <td>JJ</td>\n",
       "      <td>0</td>\n",
       "      <td>root</td>\n",
       "      <td>44</td>\n",
       "      <td>48</td>\n",
       "      <td>0</td>\n",
       "    </tr>\n",
       "  </tbody>\n",
       "</table>\n",
       "</div>"
      ],
      "text/plain": [
       "     text  lemma  upos xpos  head  deprel  start_char  end_char  y\n",
       "0      اس     یہ   DET  DEM     2     det           0         2  0\n",
       "1   سلسلے  سلسلہ  NOUN   NN     5    nmod           3         8  0\n",
       "2      کی     کا   ADP  PSP     2    case           9        11  0\n",
       "3    دیگر   دیگر   ADJ   JJ     5    amod          12        16  0\n",
       "4   اقساط  اقساط  NOUN   NN     7   nsubj          17        22  0\n",
       "5    یہاں   یہاں  PRON  PRP     7     obl          23        27  0\n",
       "6   پڑھیے    پڑھ  VERB   VM     0    root          28        33  0\n",
       "8      یہ     یہ  PRON  PRP     3   nsubj          36        38  1\n",
       "9    کیسے   کیسا  PRON   WQ     3  advmod          39        43  0\n",
       "10   ممکن   ممکن   ADJ   JJ     0    root          44        48  0"
      ]
     },
     "execution_count": 6,
     "metadata": {},
     "output_type": "execute_result"
    }
   ],
   "source": [
    "# Drop rows where the 'text' column contains only punctuation\n",
    "data = data[~data['text'].str.contains(r'^[^\\w\\s]+$', na=False)]\n",
    "\n",
    "# Verify the result\n",
    "data.head(10)\n"
   ]
  },
  {
   "cell_type": "code",
   "execution_count": 7,
   "metadata": {
    "execution": {
     "iopub.execute_input": "2024-12-27T13:52:55.294128Z",
     "iopub.status.busy": "2024-12-27T13:52:55.293801Z",
     "iopub.status.idle": "2024-12-27T13:52:55.805019Z",
     "shell.execute_reply": "2024-12-27T13:52:55.804371Z",
     "shell.execute_reply.started": "2024-12-27T13:52:55.294099Z"
    },
    "trusted": true
   },
   "outputs": [],
   "source": [
    "import pandas as pd\n",
    "from sklearn.feature_extraction.text import CountVectorizer\n",
    "from sklearn.preprocessing import OneHotEncoder, StandardScaler\n",
    "from sklearn.model_selection import train_test_split"
   ]
  },
  {
   "cell_type": "code",
   "execution_count": 8,
   "metadata": {
    "execution": {
     "iopub.execute_input": "2024-12-27T13:52:57.715361Z",
     "iopub.status.busy": "2024-12-27T13:52:57.714900Z",
     "iopub.status.idle": "2024-12-27T13:52:58.290045Z",
     "shell.execute_reply": "2024-12-27T13:52:58.289350Z",
     "shell.execute_reply.started": "2024-12-27T13:52:57.715303Z"
    },
    "trusted": true
   },
   "outputs": [],
   "source": [
    "# One-hot encode 'upos', 'xpos', and 'deprel'\n",
    "encoder = OneHotEncoder(sparse_output=False)\n",
    "encoded_cats = encoder.fit_transform(data[['upos', 'xpos', 'deprel']])\n",
    "\n",
    "# Convert to DataFrame for easier merging\n",
    "encoded_cats_df = pd.DataFrame(encoded_cats, columns=encoder.get_feature_names_out())\n",
    "\n",
    "# Concatenate encoded features back to the dataset\n",
    "data = pd.concat([data.reset_index(drop=True), encoded_cats_df], axis=1)\n",
    "\n",
    "# Drop the original categorical columns (optional)\n",
    "data = data.drop(columns=['upos', 'xpos', 'deprel'])"
   ]
  },
  {
   "cell_type": "code",
   "execution_count": 9,
   "metadata": {
    "execution": {
     "iopub.execute_input": "2024-12-27T13:52:59.804969Z",
     "iopub.status.busy": "2024-12-27T13:52:59.804673Z",
     "iopub.status.idle": "2024-12-27T13:52:59.819094Z",
     "shell.execute_reply": "2024-12-27T13:52:59.818365Z",
     "shell.execute_reply.started": "2024-12-27T13:52:59.804943Z"
    },
    "trusted": true
   },
   "outputs": [],
   "source": [
    "# Select the numerical features to normalize\n",
    "numerical_features = ['start_char', 'end_char', 'head']\n",
    "\n",
    "from sklearn.preprocessing import MinMaxScaler\n",
    "\n",
    "# Option 2: Min-Max Scaling (scales features to a range, typically 0 to 1)\n",
    "min_max_scaler = MinMaxScaler()\n",
    "data[numerical_features] = min_max_scaler.fit_transform(data[numerical_features])"
   ]
  },
  {
   "cell_type": "code",
   "execution_count": 10,
   "metadata": {
    "execution": {
     "iopub.execute_input": "2024-12-27T13:53:01.987849Z",
     "iopub.status.busy": "2024-12-27T13:53:01.987159Z",
     "iopub.status.idle": "2024-12-27T13:53:05.898806Z",
     "shell.execute_reply": "2024-12-27T13:53:05.898062Z",
     "shell.execute_reply.started": "2024-12-27T13:53:01.987811Z"
    },
    "trusted": true
   },
   "outputs": [],
   "source": [
    "from sklearn.feature_extraction.text import TfidfVectorizer\n",
    "\n",
    "# Combine text and lemma columns into a single string representation (if needed)\n",
    "data['text_lemma'] = data['text'] + \" \" + data['lemma']\n",
    "\n",
    "# Initialize TF-IDF Vectorizer\n",
    "tfidf_vectorizer = TfidfVectorizer(max_features=500)  # Adjust max_features as needed\n",
    "\n",
    "# Fit and transform the combined text and lemma\n",
    "tfidf_features = tfidf_vectorizer.fit_transform(data['text_lemma'])\n",
    "\n",
    "# Convert the sparse matrix to a DataFrame for better integration\n",
    "tfidf_df = pd.DataFrame(tfidf_features.toarray(), columns=tfidf_vectorizer.get_feature_names_out())\n",
    "\n",
    "# Add the TF-IDF features back to the original DataFrame\n",
    "data = pd.concat([data.reset_index(drop=True), tfidf_df], axis=1)\n",
    "\n",
    "# Drop the original text and lemma columns (optional)\n",
    "data = data.drop(columns=['text', 'lemma', 'text_lemma'])"
   ]
  },
  {
   "cell_type": "code",
   "execution_count": 11,
   "metadata": {
    "execution": {
     "iopub.execute_input": "2024-12-27T13:53:05.901034Z",
     "iopub.status.busy": "2024-12-27T13:53:05.900378Z",
     "iopub.status.idle": "2024-12-27T13:53:05.928467Z",
     "shell.execute_reply": "2024-12-27T13:53:05.927536Z",
     "shell.execute_reply.started": "2024-12-27T13:53:05.900993Z"
    },
    "trusted": true
   },
   "outputs": [
    {
     "data": {
      "text/html": [
       "<div>\n",
       "<style scoped>\n",
       "    .dataframe tbody tr th:only-of-type {\n",
       "        vertical-align: middle;\n",
       "    }\n",
       "\n",
       "    .dataframe tbody tr th {\n",
       "        vertical-align: top;\n",
       "    }\n",
       "\n",
       "    .dataframe thead th {\n",
       "        text-align: right;\n",
       "    }\n",
       "</style>\n",
       "<table border=\"1\" class=\"dataframe\">\n",
       "  <thead>\n",
       "    <tr style=\"text-align: right;\">\n",
       "      <th></th>\n",
       "      <th>head</th>\n",
       "      <th>start_char</th>\n",
       "      <th>end_char</th>\n",
       "      <th>y</th>\n",
       "      <th>upos_ADJ</th>\n",
       "      <th>upos_ADP</th>\n",
       "      <th>upos_ADV</th>\n",
       "      <th>upos_AUX</th>\n",
       "      <th>upos_CCONJ</th>\n",
       "      <th>upos_DET</th>\n",
       "      <th>...</th>\n",
       "      <th>ہوں</th>\n",
       "      <th>ہی</th>\n",
       "      <th>ہیں</th>\n",
       "      <th>ہے</th>\n",
       "      <th>یا</th>\n",
       "      <th>یعنی</th>\n",
       "      <th>یقینا</th>\n",
       "      <th>یہ</th>\n",
       "      <th>یہاں</th>\n",
       "      <th>یہی</th>\n",
       "    </tr>\n",
       "  </thead>\n",
       "  <tbody>\n",
       "    <tr>\n",
       "      <th>0</th>\n",
       "      <td>0.014493</td>\n",
       "      <td>0.000000</td>\n",
       "      <td>0.000000</td>\n",
       "      <td>0</td>\n",
       "      <td>0.0</td>\n",
       "      <td>0.0</td>\n",
       "      <td>0.0</td>\n",
       "      <td>0.0</td>\n",
       "      <td>0.0</td>\n",
       "      <td>1.0</td>\n",
       "      <td>...</td>\n",
       "      <td>0.0</td>\n",
       "      <td>0.0</td>\n",
       "      <td>0.0</td>\n",
       "      <td>0.0</td>\n",
       "      <td>0.0</td>\n",
       "      <td>0.0</td>\n",
       "      <td>0.0</td>\n",
       "      <td>0.646062</td>\n",
       "      <td>0.0</td>\n",
       "      <td>0.0</td>\n",
       "    </tr>\n",
       "    <tr>\n",
       "      <th>1</th>\n",
       "      <td>0.036232</td>\n",
       "      <td>0.000003</td>\n",
       "      <td>0.000005</td>\n",
       "      <td>0</td>\n",
       "      <td>0.0</td>\n",
       "      <td>0.0</td>\n",
       "      <td>0.0</td>\n",
       "      <td>0.0</td>\n",
       "      <td>0.0</td>\n",
       "      <td>0.0</td>\n",
       "      <td>...</td>\n",
       "      <td>0.0</td>\n",
       "      <td>0.0</td>\n",
       "      <td>0.0</td>\n",
       "      <td>0.0</td>\n",
       "      <td>0.0</td>\n",
       "      <td>0.0</td>\n",
       "      <td>0.0</td>\n",
       "      <td>0.000000</td>\n",
       "      <td>0.0</td>\n",
       "      <td>0.0</td>\n",
       "    </tr>\n",
       "    <tr>\n",
       "      <th>2</th>\n",
       "      <td>0.014493</td>\n",
       "      <td>0.000008</td>\n",
       "      <td>0.000008</td>\n",
       "      <td>0</td>\n",
       "      <td>0.0</td>\n",
       "      <td>1.0</td>\n",
       "      <td>0.0</td>\n",
       "      <td>0.0</td>\n",
       "      <td>0.0</td>\n",
       "      <td>0.0</td>\n",
       "      <td>...</td>\n",
       "      <td>0.0</td>\n",
       "      <td>0.0</td>\n",
       "      <td>0.0</td>\n",
       "      <td>0.0</td>\n",
       "      <td>0.0</td>\n",
       "      <td>0.0</td>\n",
       "      <td>0.0</td>\n",
       "      <td>0.000000</td>\n",
       "      <td>0.0</td>\n",
       "      <td>0.0</td>\n",
       "    </tr>\n",
       "    <tr>\n",
       "      <th>3</th>\n",
       "      <td>0.036232</td>\n",
       "      <td>0.000011</td>\n",
       "      <td>0.000012</td>\n",
       "      <td>0</td>\n",
       "      <td>1.0</td>\n",
       "      <td>0.0</td>\n",
       "      <td>0.0</td>\n",
       "      <td>0.0</td>\n",
       "      <td>0.0</td>\n",
       "      <td>0.0</td>\n",
       "      <td>...</td>\n",
       "      <td>0.0</td>\n",
       "      <td>0.0</td>\n",
       "      <td>0.0</td>\n",
       "      <td>0.0</td>\n",
       "      <td>0.0</td>\n",
       "      <td>0.0</td>\n",
       "      <td>0.0</td>\n",
       "      <td>0.000000</td>\n",
       "      <td>0.0</td>\n",
       "      <td>0.0</td>\n",
       "    </tr>\n",
       "    <tr>\n",
       "      <th>4</th>\n",
       "      <td>0.050725</td>\n",
       "      <td>0.000015</td>\n",
       "      <td>0.000018</td>\n",
       "      <td>0</td>\n",
       "      <td>0.0</td>\n",
       "      <td>0.0</td>\n",
       "      <td>0.0</td>\n",
       "      <td>0.0</td>\n",
       "      <td>0.0</td>\n",
       "      <td>0.0</td>\n",
       "      <td>...</td>\n",
       "      <td>0.0</td>\n",
       "      <td>0.0</td>\n",
       "      <td>0.0</td>\n",
       "      <td>0.0</td>\n",
       "      <td>0.0</td>\n",
       "      <td>0.0</td>\n",
       "      <td>0.0</td>\n",
       "      <td>0.000000</td>\n",
       "      <td>0.0</td>\n",
       "      <td>0.0</td>\n",
       "    </tr>\n",
       "    <tr>\n",
       "      <th>5</th>\n",
       "      <td>0.050725</td>\n",
       "      <td>0.000020</td>\n",
       "      <td>0.000022</td>\n",
       "      <td>0</td>\n",
       "      <td>0.0</td>\n",
       "      <td>0.0</td>\n",
       "      <td>0.0</td>\n",
       "      <td>0.0</td>\n",
       "      <td>0.0</td>\n",
       "      <td>0.0</td>\n",
       "      <td>...</td>\n",
       "      <td>0.0</td>\n",
       "      <td>0.0</td>\n",
       "      <td>0.0</td>\n",
       "      <td>0.0</td>\n",
       "      <td>0.0</td>\n",
       "      <td>0.0</td>\n",
       "      <td>0.0</td>\n",
       "      <td>0.000000</td>\n",
       "      <td>1.0</td>\n",
       "      <td>0.0</td>\n",
       "    </tr>\n",
       "    <tr>\n",
       "      <th>6</th>\n",
       "      <td>0.000000</td>\n",
       "      <td>0.000025</td>\n",
       "      <td>0.000027</td>\n",
       "      <td>0</td>\n",
       "      <td>0.0</td>\n",
       "      <td>0.0</td>\n",
       "      <td>0.0</td>\n",
       "      <td>0.0</td>\n",
       "      <td>0.0</td>\n",
       "      <td>0.0</td>\n",
       "      <td>...</td>\n",
       "      <td>0.0</td>\n",
       "      <td>0.0</td>\n",
       "      <td>0.0</td>\n",
       "      <td>0.0</td>\n",
       "      <td>0.0</td>\n",
       "      <td>0.0</td>\n",
       "      <td>0.0</td>\n",
       "      <td>0.000000</td>\n",
       "      <td>0.0</td>\n",
       "      <td>0.0</td>\n",
       "    </tr>\n",
       "    <tr>\n",
       "      <th>7</th>\n",
       "      <td>0.021739</td>\n",
       "      <td>0.000032</td>\n",
       "      <td>0.000032</td>\n",
       "      <td>1</td>\n",
       "      <td>0.0</td>\n",
       "      <td>0.0</td>\n",
       "      <td>0.0</td>\n",
       "      <td>0.0</td>\n",
       "      <td>0.0</td>\n",
       "      <td>0.0</td>\n",
       "      <td>...</td>\n",
       "      <td>0.0</td>\n",
       "      <td>0.0</td>\n",
       "      <td>0.0</td>\n",
       "      <td>0.0</td>\n",
       "      <td>0.0</td>\n",
       "      <td>0.0</td>\n",
       "      <td>0.0</td>\n",
       "      <td>1.000000</td>\n",
       "      <td>0.0</td>\n",
       "      <td>0.0</td>\n",
       "    </tr>\n",
       "    <tr>\n",
       "      <th>8</th>\n",
       "      <td>0.021739</td>\n",
       "      <td>0.000035</td>\n",
       "      <td>0.000036</td>\n",
       "      <td>0</td>\n",
       "      <td>0.0</td>\n",
       "      <td>0.0</td>\n",
       "      <td>0.0</td>\n",
       "      <td>0.0</td>\n",
       "      <td>0.0</td>\n",
       "      <td>0.0</td>\n",
       "      <td>...</td>\n",
       "      <td>0.0</td>\n",
       "      <td>0.0</td>\n",
       "      <td>0.0</td>\n",
       "      <td>0.0</td>\n",
       "      <td>0.0</td>\n",
       "      <td>0.0</td>\n",
       "      <td>0.0</td>\n",
       "      <td>0.000000</td>\n",
       "      <td>0.0</td>\n",
       "      <td>0.0</td>\n",
       "    </tr>\n",
       "    <tr>\n",
       "      <th>9</th>\n",
       "      <td>0.000000</td>\n",
       "      <td>0.000039</td>\n",
       "      <td>0.000041</td>\n",
       "      <td>0</td>\n",
       "      <td>1.0</td>\n",
       "      <td>0.0</td>\n",
       "      <td>0.0</td>\n",
       "      <td>0.0</td>\n",
       "      <td>0.0</td>\n",
       "      <td>0.0</td>\n",
       "      <td>...</td>\n",
       "      <td>0.0</td>\n",
       "      <td>0.0</td>\n",
       "      <td>0.0</td>\n",
       "      <td>0.0</td>\n",
       "      <td>0.0</td>\n",
       "      <td>0.0</td>\n",
       "      <td>0.0</td>\n",
       "      <td>0.000000</td>\n",
       "      <td>0.0</td>\n",
       "      <td>0.0</td>\n",
       "    </tr>\n",
       "  </tbody>\n",
       "</table>\n",
       "<p>10 rows × 579 columns</p>\n",
       "</div>"
      ],
      "text/plain": [
       "       head  start_char  end_char  y  upos_ADJ  upos_ADP  upos_ADV  upos_AUX  \\\n",
       "0  0.014493    0.000000  0.000000  0       0.0       0.0       0.0       0.0   \n",
       "1  0.036232    0.000003  0.000005  0       0.0       0.0       0.0       0.0   \n",
       "2  0.014493    0.000008  0.000008  0       0.0       1.0       0.0       0.0   \n",
       "3  0.036232    0.000011  0.000012  0       1.0       0.0       0.0       0.0   \n",
       "4  0.050725    0.000015  0.000018  0       0.0       0.0       0.0       0.0   \n",
       "5  0.050725    0.000020  0.000022  0       0.0       0.0       0.0       0.0   \n",
       "6  0.000000    0.000025  0.000027  0       0.0       0.0       0.0       0.0   \n",
       "7  0.021739    0.000032  0.000032  1       0.0       0.0       0.0       0.0   \n",
       "8  0.021739    0.000035  0.000036  0       0.0       0.0       0.0       0.0   \n",
       "9  0.000000    0.000039  0.000041  0       1.0       0.0       0.0       0.0   \n",
       "\n",
       "   upos_CCONJ  upos_DET  ...  ہوں   ہی  ہیں   ہے   یا  یعنی  یقینا        یہ  \\\n",
       "0         0.0       1.0  ...  0.0  0.0  0.0  0.0  0.0   0.0    0.0  0.646062   \n",
       "1         0.0       0.0  ...  0.0  0.0  0.0  0.0  0.0   0.0    0.0  0.000000   \n",
       "2         0.0       0.0  ...  0.0  0.0  0.0  0.0  0.0   0.0    0.0  0.000000   \n",
       "3         0.0       0.0  ...  0.0  0.0  0.0  0.0  0.0   0.0    0.0  0.000000   \n",
       "4         0.0       0.0  ...  0.0  0.0  0.0  0.0  0.0   0.0    0.0  0.000000   \n",
       "5         0.0       0.0  ...  0.0  0.0  0.0  0.0  0.0   0.0    0.0  0.000000   \n",
       "6         0.0       0.0  ...  0.0  0.0  0.0  0.0  0.0   0.0    0.0  0.000000   \n",
       "7         0.0       0.0  ...  0.0  0.0  0.0  0.0  0.0   0.0    0.0  1.000000   \n",
       "8         0.0       0.0  ...  0.0  0.0  0.0  0.0  0.0   0.0    0.0  0.000000   \n",
       "9         0.0       0.0  ...  0.0  0.0  0.0  0.0  0.0   0.0    0.0  0.000000   \n",
       "\n",
       "   یہاں  یہی  \n",
       "0   0.0  0.0  \n",
       "1   0.0  0.0  \n",
       "2   0.0  0.0  \n",
       "3   0.0  0.0  \n",
       "4   0.0  0.0  \n",
       "5   1.0  0.0  \n",
       "6   0.0  0.0  \n",
       "7   0.0  0.0  \n",
       "8   0.0  0.0  \n",
       "9   0.0  0.0  \n",
       "\n",
       "[10 rows x 579 columns]"
      ]
     },
     "execution_count": 11,
     "metadata": {},
     "output_type": "execute_result"
    }
   ],
   "source": [
    "data.head(10)"
   ]
  },
  {
   "cell_type": "code",
   "execution_count": 12,
   "metadata": {
    "execution": {
     "iopub.execute_input": "2024-12-27T13:53:09.531511Z",
     "iopub.status.busy": "2024-12-27T13:53:09.531157Z",
     "iopub.status.idle": "2024-12-27T13:53:09.857928Z",
     "shell.execute_reply": "2024-12-27T13:53:09.856962Z",
     "shell.execute_reply.started": "2024-12-27T13:53:09.531479Z"
    },
    "trusted": true
   },
   "outputs": [],
   "source": [
    "# Define the feature matrix (drop 'y') and target\n",
    "X = data.drop(columns=['y'])\n",
    "y = data['y']\n"
   ]
  },
  {
   "cell_type": "code",
   "execution_count": 13,
   "metadata": {
    "execution": {
     "iopub.execute_input": "2024-12-27T13:53:12.288209Z",
     "iopub.status.busy": "2024-12-27T13:53:12.287885Z",
     "iopub.status.idle": "2024-12-27T13:53:13.767188Z",
     "shell.execute_reply": "2024-12-27T13:53:13.766529Z",
     "shell.execute_reply.started": "2024-12-27T13:53:12.288179Z"
    },
    "trusted": true
   },
   "outputs": [],
   "source": [
    "# Split into training (64%), validation (16%), and test (20%) sets\n",
    "X_train, X_temp, y_train, y_temp = train_test_split(X, y, test_size=0.36, random_state=42, stratify=y)\n",
    "X_val, X_test, y_val, y_test = train_test_split(X_temp, y_temp, test_size=0.56, random_state=42, stratify=y_temp)"
   ]
  },
  {
   "cell_type": "code",
   "execution_count": 14,
   "metadata": {
    "execution": {
     "iopub.execute_input": "2024-12-27T13:53:13.973920Z",
     "iopub.status.busy": "2024-12-27T13:53:13.973625Z",
     "iopub.status.idle": "2024-12-27T13:53:14.334525Z",
     "shell.execute_reply": "2024-12-27T13:53:14.333837Z",
     "shell.execute_reply.started": "2024-12-27T13:53:13.973894Z"
    },
    "trusted": true
   },
   "outputs": [],
   "source": [
    "import pandas as pd\n",
    "from sklearn.model_selection import train_test_split\n",
    "from sklearn.metrics import classification_report, accuracy_score\n",
    "from imblearn.over_sampling import SMOTE"
   ]
  },
  {
   "cell_type": "code",
   "execution_count": 15,
   "metadata": {
    "execution": {
     "iopub.execute_input": "2024-12-27T13:53:16.434013Z",
     "iopub.status.busy": "2024-12-27T13:53:16.433228Z",
     "iopub.status.idle": "2024-12-27T13:53:16.473431Z",
     "shell.execute_reply": "2024-12-27T13:53:16.472741Z",
     "shell.execute_reply.started": "2024-12-27T13:53:16.433977Z"
    },
    "trusted": true
   },
   "outputs": [],
   "source": [
    "from sklearn.utils.class_weight import compute_class_weight\n",
    "import numpy as np\n",
    "# Compute class weights based on the class distribution in the target variable y\n",
    "class_weights = compute_class_weight('balanced', classes=np.unique(y_train), y=y_train)\n",
    "class_weight_dict = dict(zip(np.unique(y_train), class_weights))"
   ]
  },
  {
   "cell_type": "code",
   "execution_count": 16,
   "metadata": {
    "execution": {
     "iopub.execute_input": "2024-12-27T13:53:18.306980Z",
     "iopub.status.busy": "2024-12-27T13:53:18.306348Z",
     "iopub.status.idle": "2024-12-27T13:53:23.170940Z",
     "shell.execute_reply": "2024-12-27T13:53:23.169996Z",
     "shell.execute_reply.started": "2024-12-27T13:53:18.306948Z"
    },
    "trusted": true
   },
   "outputs": [],
   "source": [
    "# Apply SMOTE to the training data\n",
    "smote = SMOTE(random_state=42)\n",
    "X_train_resampled, y_train_resampled = smote.fit_resample(X_train, y_train)"
   ]
  },
  {
   "cell_type": "code",
   "execution_count": 17,
   "metadata": {
    "execution": {
     "iopub.execute_input": "2024-12-27T13:53:23.172613Z",
     "iopub.status.busy": "2024-12-27T13:53:23.172314Z",
     "iopub.status.idle": "2024-12-27T13:53:24.483305Z",
     "shell.execute_reply": "2024-12-27T13:53:24.482481Z",
     "shell.execute_reply.started": "2024-12-27T13:53:23.172587Z"
    },
    "trusted": true
   },
   "outputs": [],
   "source": [
    "# Convert data to NumPy arrays\n",
    "X_train_resampled = np.array(X_train_resampled)\n",
    "y_train_resampled = np.array(y_train_resampled)\n",
    "X_val = np.array(X_val)\n",
    "y_val = np.array(y_val)\n",
    "X_test = np.array(X_test)\n",
    "y_test = np.array(y_test)\n"
   ]
  },
  {
   "cell_type": "code",
   "execution_count": 18,
   "metadata": {
    "execution": {
     "iopub.execute_input": "2024-12-27T13:53:27.487570Z",
     "iopub.status.busy": "2024-12-27T13:53:27.486763Z",
     "iopub.status.idle": "2024-12-27T13:53:39.780038Z",
     "shell.execute_reply": "2024-12-27T13:53:39.779080Z",
     "shell.execute_reply.started": "2024-12-27T13:53:27.487535Z"
    },
    "trusted": true
   },
   "outputs": [],
   "source": [
    "import numpy as np\n",
    "import pandas as pd\n",
    "from sklearn.model_selection import train_test_split\n",
    "from sklearn.preprocessing import StandardScaler, OneHotEncoder\n",
    "from sklearn.feature_extraction.text import TfidfVectorizer\n",
    "from sklearn.utils.class_weight import compute_class_weight\n",
    "from imblearn.over_sampling import SMOTE\n",
    "import tensorflow as tf\n",
    "from tensorflow.keras.models import Sequential\n",
    "from tensorflow.keras.layers import LSTM, Dense, Dropout, BatchNormalization\n",
    "from tensorflow.keras.optimizers import Adam\n",
    "from tensorflow.keras.callbacks import EarlyStopping\n",
    "from sklearn.metrics import classification_report, confusion_matrix\n",
    "import matplotlib.pyplot as plt"
   ]
  },
  {
   "cell_type": "code",
   "execution_count": 19,
   "metadata": {
    "execution": {
     "iopub.execute_input": "2024-12-27T13:53:39.782096Z",
     "iopub.status.busy": "2024-12-27T13:53:39.781621Z",
     "iopub.status.idle": "2024-12-27T13:53:40.805406Z",
     "shell.execute_reply": "2024-12-27T13:53:40.804507Z",
     "shell.execute_reply.started": "2024-12-27T13:53:39.782067Z"
    },
    "trusted": true
   },
   "outputs": [
    {
     "name": "stderr",
     "output_type": "stream",
     "text": [
      "/opt/conda/lib/python3.10/site-packages/keras/src/layers/core/dense.py:87: UserWarning: Do not pass an `input_shape`/`input_dim` argument to a layer. When using Sequential models, prefer using an `Input(shape)` object as the first layer in the model instead.\n",
      "  super().__init__(activity_regularizer=activity_regularizer, **kwargs)\n"
     ]
    }
   ],
   "source": [
    "# Define the DNN model\n",
    "model = Sequential([\n",
    "    Dense(128, activation='relu', input_dim=X_train_resampled.shape[1]),  # Input layer\n",
    "    BatchNormalization(),\n",
    "    Dropout(0.3),\n",
    "    Dense(64, activation='relu'),  # Hidden layer\n",
    "    BatchNormalization(),\n",
    "    Dropout(0.3),\n",
    "    Dense(32, activation='relu'),  # Hidden layer\n",
    "    BatchNormalization(),\n",
    "    Dropout(0.3),\n",
    "    Dense(1, activation='sigmoid')  # Output layer (binary classification)\n",
    "])\n",
    "\n",
    "# Compile the model\n",
    "model.compile(optimizer=Adam(learning_rate=0.001),\n",
    "              loss='binary_crossentropy',\n",
    "              metrics=['accuracy'])\n"
   ]
  },
  {
   "cell_type": "code",
   "execution_count": 20,
   "metadata": {
    "execution": {
     "iopub.execute_input": "2024-12-27T13:53:40.806955Z",
     "iopub.status.busy": "2024-12-27T13:53:40.806558Z",
     "iopub.status.idle": "2024-12-27T13:56:43.490422Z",
     "shell.execute_reply": "2024-12-27T13:56:43.489498Z",
     "shell.execute_reply.started": "2024-12-27T13:53:40.806926Z"
    },
    "trusted": true
   },
   "outputs": [
    {
     "name": "stdout",
     "output_type": "stream",
     "text": [
      "Epoch 1/10\n"
     ]
    },
    {
     "name": "stderr",
     "output_type": "stream",
     "text": [
      "WARNING: All log messages before absl::InitializeLog() is called are written to STDERR\n",
      "I0000 00:00:1735307625.350290     100 service.cc:145] XLA service 0x5adee2cafd00 initialized for platform CUDA (this does not guarantee that XLA will be used). Devices:\n",
      "I0000 00:00:1735307625.350353     100 service.cc:153]   StreamExecutor device (0): Tesla T4, Compute Capability 7.5\n",
      "I0000 00:00:1735307625.350359     100 service.cc:153]   StreamExecutor device (1): Tesla T4, Compute Capability 7.5\n"
     ]
    },
    {
     "name": "stdout",
     "output_type": "stream",
     "text": [
      "\u001b[1m  93/9271\u001b[0m \u001b[37m━━━━━━━━━━━━━━━━━━━━\u001b[0m \u001b[1m15s\u001b[0m 2ms/step - accuracy: 0.6414 - loss: 4.1442  "
     ]
    },
    {
     "name": "stderr",
     "output_type": "stream",
     "text": [
      "I0000 00:00:1735307630.459440     100 device_compiler.h:188] Compiled cluster using XLA!  This line is logged at most once for the lifetime of the process.\n"
     ]
    },
    {
     "name": "stdout",
     "output_type": "stream",
     "text": [
      "\u001b[1m9271/9271\u001b[0m \u001b[32m━━━━━━━━━━━━━━━━━━━━\u001b[0m\u001b[37m\u001b[0m \u001b[1m29s\u001b[0m 2ms/step - accuracy: 0.7764 - loss: 0.7360 - val_accuracy: 0.7600 - val_loss: 0.7630\n",
      "Epoch 2/10\n",
      "\u001b[1m9271/9271\u001b[0m \u001b[32m━━━━━━━━━━━━━━━━━━━━\u001b[0m\u001b[37m\u001b[0m \u001b[1m17s\u001b[0m 2ms/step - accuracy: 0.8573 - loss: 0.3522 - val_accuracy: 0.7678 - val_loss: 0.7765\n",
      "Epoch 3/10\n",
      "\u001b[1m9271/9271\u001b[0m \u001b[32m━━━━━━━━━━━━━━━━━━━━\u001b[0m\u001b[37m\u001b[0m \u001b[1m17s\u001b[0m 2ms/step - accuracy: 0.8714 - loss: 0.3182 - val_accuracy: 0.7771 - val_loss: 0.6929\n",
      "Epoch 4/10\n",
      "\u001b[1m9271/9271\u001b[0m \u001b[32m━━━━━━━━━━━━━━━━━━━━\u001b[0m\u001b[37m\u001b[0m \u001b[1m17s\u001b[0m 2ms/step - accuracy: 0.8734 - loss: 0.3091 - val_accuracy: 0.7930 - val_loss: 0.6960\n",
      "Epoch 5/10\n",
      "\u001b[1m9271/9271\u001b[0m \u001b[32m━━━━━━━━━━━━━━━━━━━━\u001b[0m\u001b[37m\u001b[0m \u001b[1m16s\u001b[0m 2ms/step - accuracy: 0.8766 - loss: 0.3014 - val_accuracy: 0.7752 - val_loss: 0.7607\n",
      "Epoch 6/10\n",
      "\u001b[1m9271/9271\u001b[0m \u001b[32m━━━━━━━━━━━━━━━━━━━━\u001b[0m\u001b[37m\u001b[0m \u001b[1m17s\u001b[0m 2ms/step - accuracy: 0.8788 - loss: 0.2902 - val_accuracy: 0.7892 - val_loss: 0.6770\n",
      "Epoch 7/10\n",
      "\u001b[1m9271/9271\u001b[0m \u001b[32m━━━━━━━━━━━━━━━━━━━━\u001b[0m\u001b[37m\u001b[0m \u001b[1m17s\u001b[0m 2ms/step - accuracy: 0.8810 - loss: 0.2846 - val_accuracy: 0.7884 - val_loss: 0.7328\n",
      "Epoch 8/10\n",
      "\u001b[1m9271/9271\u001b[0m \u001b[32m━━━━━━━━━━━━━━━━━━━━\u001b[0m\u001b[37m\u001b[0m \u001b[1m17s\u001b[0m 2ms/step - accuracy: 0.8858 - loss: 0.2741 - val_accuracy: 0.7954 - val_loss: 0.6934\n",
      "Epoch 9/10\n",
      "\u001b[1m9271/9271\u001b[0m \u001b[32m━━━━━━━━━━━━━━━━━━━━\u001b[0m\u001b[37m\u001b[0m \u001b[1m17s\u001b[0m 2ms/step - accuracy: 0.8886 - loss: 0.2674 - val_accuracy: 0.7895 - val_loss: 0.6844\n",
      "Epoch 10/10\n",
      "\u001b[1m9271/9271\u001b[0m \u001b[32m━━━━━━━━━━━━━━━━━━━━\u001b[0m\u001b[37m\u001b[0m \u001b[1m17s\u001b[0m 2ms/step - accuracy: 0.8893 - loss: 0.2676 - val_accuracy: 0.7795 - val_loss: 0.7178\n"
     ]
    }
   ],
   "source": [
    "# Early stopping to avoid overfitting\n",
    "early_stopping = EarlyStopping(monitor='val_loss', patience=10, restore_best_weights=True)\n",
    "\n",
    "# Train the model\n",
    "history = model.fit(\n",
    "    X_train_resampled, y_train_resampled,\n",
    "    validation_data=(X_val, y_val),\n",
    "    epochs=10,\n",
    "    batch_size=32,\n",
    "    class_weight=class_weight_dict,\n",
    "    callbacks=[early_stopping]\n",
    ")\n"
   ]
  },
  {
   "cell_type": "code",
   "execution_count": 21,
   "metadata": {
    "execution": {
     "iopub.execute_input": "2024-12-27T13:56:47.491246Z",
     "iopub.status.busy": "2024-12-27T13:56:47.490556Z",
     "iopub.status.idle": "2024-12-27T13:56:52.954189Z",
     "shell.execute_reply": "2024-12-27T13:56:52.953263Z",
     "shell.execute_reply.started": "2024-12-27T13:56:47.491215Z"
    },
    "trusted": true
   },
   "outputs": [
    {
     "name": "stdout",
     "output_type": "stream",
     "text": [
      "\u001b[1m1517/1517\u001b[0m \u001b[32m━━━━━━━━━━━━━━━━━━━━\u001b[0m\u001b[37m\u001b[0m \u001b[1m2s\u001b[0m 1ms/step - accuracy: 0.7928 - loss: 0.6624\n",
      "Test Loss: 0.671063244342804\n",
      "Test Accuracy: 0.7911173105239868\n",
      "\u001b[1m1517/1517\u001b[0m \u001b[32m━━━━━━━━━━━━━━━━━━━━\u001b[0m\u001b[37m\u001b[0m \u001b[1m2s\u001b[0m 1ms/step\n",
      "Classification Report:\n",
      "               precision    recall  f1-score   support\n",
      "\n",
      "           0       1.00      0.78      0.88     46727\n",
      "           1       0.15      0.99      0.26      1817\n",
      "\n",
      "    accuracy                           0.79     48544\n",
      "   macro avg       0.58      0.89      0.57     48544\n",
      "weighted avg       0.97      0.79      0.86     48544\n",
      "\n",
      "Confusion Matrix:\n",
      " [[36606 10121]\n",
      " [   19  1798]]\n"
     ]
    }
   ],
   "source": [
    "# Evaluate the model on the test set\n",
    "test_loss, test_accuracy = model.evaluate(X_test, y_test)\n",
    "print(f\"Test Loss: {test_loss}\")\n",
    "print(f\"Test Accuracy: {test_accuracy}\")\n",
    "\n",
    "# Predict on test data\n",
    "y_pred = (model.predict(X_test) > 0.5).astype(\"int32\")\n",
    "\n",
    "# Generate classification report and confusion matrix\n",
    "print(\"Classification Report:\\n\", classification_report(y_test, y_pred))\n",
    "print(\"Confusion Matrix:\\n\", confusion_matrix(y_test, y_pred))\n"
   ]
  },
  {
   "cell_type": "code",
   "execution_count": 22,
   "metadata": {
    "execution": {
     "iopub.execute_input": "2024-12-27T13:57:02.991103Z",
     "iopub.status.busy": "2024-12-27T13:57:02.990181Z",
     "iopub.status.idle": "2024-12-27T13:57:03.468634Z",
     "shell.execute_reply": "2024-12-27T13:57:03.467744Z",
     "shell.execute_reply.started": "2024-12-27T13:57:02.991050Z"
    },
    "trusted": true
   },
   "outputs": [
    {
     "data": {
      "image/png": "[encoded data removed]",
      "text/plain": [
       "<Figure size 800x400 with 2 Axes>"
      ]
     },
     "metadata": {},
     "output_type": "display_data"
    }
   ],
   "source": [
    "# Plot training and validation accuracy/loss\n",
    "plt.figure(figsize=(8, 4))\n",
    "\n",
    "# Accuracy\n",
    "plt.subplot(1, 2, 1)\n",
    "plt.plot(history.history['accuracy'], label='Train Accuracy')\n",
    "plt.plot(history.history['val_accuracy'], label='Validation Accuracy')\n",
    "plt.title('Model Accuracy')\n",
    "plt.xlabel('Epochs')\n",
    "plt.ylabel('Accuracy')\n",
    "plt.legend()\n",
    "\n",
    "# Loss\n",
    "plt.subplot(1, 2, 2)\n",
    "plt.plot(history.history['loss'], label='Train Loss')\n",
    "plt.plot(history.history['val_loss'], label='Validation Loss')\n",
    "plt.title('Model Loss')\n",
    "plt.xlabel('Epochs')\n",
    "plt.ylabel('Loss')\n",
    "plt.legend()\n",
    "\n",
    "plt.tight_layout()\n",
    "plt.show()\n"
   ]
  },
  {
   "cell_type": "code",
   "execution_count": 114,
   "metadata": {
    "execution": {
     "iopub.execute_input": "2024-12-27T12:05:44.964228Z",
     "iopub.status.busy": "2024-12-27T12:05:44.963957Z",
     "iopub.status.idle": "2024-12-27T12:05:44.969183Z",
     "shell.execute_reply": "2024-12-27T12:05:44.968185Z",
     "shell.execute_reply.started": "2024-12-27T12:05:44.964203Z"
    },
    "trusted": true
   },
   "outputs": [],
   "source": [
    "import tensorflow as tf\n",
    "from tensorflow.keras.models import Sequential\n",
    "from tensorflow.keras.layers import Conv1D, MaxPooling1D, Flatten, Dense, Dropout, BatchNormalization\n",
    "from tensorflow.keras.optimizers import Adam\n",
    "from tensorflow.keras.callbacks import EarlyStopping\n",
    "from sklearn.metrics import classification_report, confusion_matrix\n",
    "import matplotlib.pyplot as plt\n"
   ]
  },
  {
   "cell_type": "code",
   "execution_count": 115,
   "metadata": {
    "execution": {
     "iopub.execute_input": "2024-12-27T12:05:44.970514Z",
     "iopub.status.busy": "2024-12-27T12:05:44.970231Z",
     "iopub.status.idle": "2024-12-27T12:05:45.095107Z",
     "shell.execute_reply": "2024-12-27T12:05:45.094247Z",
     "shell.execute_reply.started": "2024-12-27T12:05:44.970476Z"
    },
    "trusted": true
   },
   "outputs": [
    {
     "name": "stderr",
     "output_type": "stream",
     "text": [
      "/opt/conda/lib/python3.10/site-packages/keras/src/layers/convolutional/base_conv.py:107: UserWarning: Do not pass an `input_shape`/`input_dim` argument to a layer. When using Sequential models, prefer using an `Input(shape)` object as the first layer in the model instead.\n",
      "  super().__init__(activity_regularizer=activity_regularizer, **kwargs)\n"
     ]
    },
    {
     "data": {
      "text/html": [
       "<pre style=\"white-space:pre;overflow-x:auto;line-height:normal;font-family:Menlo,'DejaVu Sans Mono',consolas,'Courier New',monospace\"><span style=\"font-weight: bold\">Model: \"sequential_5\"</span>\n",
       "</pre>\n"
      ],
      "text/plain": [
       "\u001b[1mModel: \"sequential_5\"\u001b[0m\n"
      ]
     },
     "metadata": {},
     "output_type": "display_data"
    },
    {
     "data": {
      "text/html": [
       "<pre style=\"white-space:pre;overflow-x:auto;line-height:normal;font-family:Menlo,'DejaVu Sans Mono',consolas,'Courier New',monospace\">┏━━━━━━━━━━━━━━━━━━━━━━━━━━━━━━━━━┳━━━━━━━━━━━━━━━━━━━━━━━━┳━━━━━━━━━━━━━━━┓\n",
       "┃<span style=\"font-weight: bold\"> Layer (type)                    </span>┃<span style=\"font-weight: bold\"> Output Shape           </span>┃<span style=\"font-weight: bold\">       Param # </span>┃\n",
       "┡━━━━━━━━━━━━━━━━━━━━━━━━━━━━━━━━━╇━━━━━━━━━━━━━━━━━━━━━━━━╇━━━━━━━━━━━━━━━┩\n",
       "│ conv1d_6 (<span style=\"color: #0087ff; text-decoration-color: #0087ff\">Conv1D</span>)               │ (<span style=\"color: #00d7ff; text-decoration-color: #00d7ff\">None</span>, <span style=\"color: #00af00; text-decoration-color: #00af00\">576</span>, <span style=\"color: #00af00; text-decoration-color: #00af00\">64</span>)        │           <span style=\"color: #00af00; text-decoration-color: #00af00\">256</span> │\n",
       "├─────────────────────────────────┼────────────────────────┼───────────────┤\n",
       "│ batch_normalization_8           │ (<span style=\"color: #00d7ff; text-decoration-color: #00d7ff\">None</span>, <span style=\"color: #00af00; text-decoration-color: #00af00\">576</span>, <span style=\"color: #00af00; text-decoration-color: #00af00\">64</span>)        │           <span style=\"color: #00af00; text-decoration-color: #00af00\">256</span> │\n",
       "│ (<span style=\"color: #0087ff; text-decoration-color: #0087ff\">BatchNormalization</span>)            │                        │               │\n",
       "├─────────────────────────────────┼────────────────────────┼───────────────┤\n",
       "│ max_pooling1d_6 (<span style=\"color: #0087ff; text-decoration-color: #0087ff\">MaxPooling1D</span>)  │ (<span style=\"color: #00d7ff; text-decoration-color: #00d7ff\">None</span>, <span style=\"color: #00af00; text-decoration-color: #00af00\">288</span>, <span style=\"color: #00af00; text-decoration-color: #00af00\">64</span>)        │             <span style=\"color: #00af00; text-decoration-color: #00af00\">0</span> │\n",
       "├─────────────────────────────────┼────────────────────────┼───────────────┤\n",
       "│ conv1d_7 (<span style=\"color: #0087ff; text-decoration-color: #0087ff\">Conv1D</span>)               │ (<span style=\"color: #00d7ff; text-decoration-color: #00d7ff\">None</span>, <span style=\"color: #00af00; text-decoration-color: #00af00\">286</span>, <span style=\"color: #00af00; text-decoration-color: #00af00\">128</span>)       │        <span style=\"color: #00af00; text-decoration-color: #00af00\">24,704</span> │\n",
       "├─────────────────────────────────┼────────────────────────┼───────────────┤\n",
       "│ batch_normalization_9           │ (<span style=\"color: #00d7ff; text-decoration-color: #00d7ff\">None</span>, <span style=\"color: #00af00; text-decoration-color: #00af00\">286</span>, <span style=\"color: #00af00; text-decoration-color: #00af00\">128</span>)       │           <span style=\"color: #00af00; text-decoration-color: #00af00\">512</span> │\n",
       "│ (<span style=\"color: #0087ff; text-decoration-color: #0087ff\">BatchNormalization</span>)            │                        │               │\n",
       "├─────────────────────────────────┼────────────────────────┼───────────────┤\n",
       "│ max_pooling1d_7 (<span style=\"color: #0087ff; text-decoration-color: #0087ff\">MaxPooling1D</span>)  │ (<span style=\"color: #00d7ff; text-decoration-color: #00d7ff\">None</span>, <span style=\"color: #00af00; text-decoration-color: #00af00\">143</span>, <span style=\"color: #00af00; text-decoration-color: #00af00\">128</span>)       │             <span style=\"color: #00af00; text-decoration-color: #00af00\">0</span> │\n",
       "├─────────────────────────────────┼────────────────────────┼───────────────┤\n",
       "│ flatten_3 (<span style=\"color: #0087ff; text-decoration-color: #0087ff\">Flatten</span>)             │ (<span style=\"color: #00d7ff; text-decoration-color: #00d7ff\">None</span>, <span style=\"color: #00af00; text-decoration-color: #00af00\">18304</span>)          │             <span style=\"color: #00af00; text-decoration-color: #00af00\">0</span> │\n",
       "├─────────────────────────────────┼────────────────────────┼───────────────┤\n",
       "│ dense_13 (<span style=\"color: #0087ff; text-decoration-color: #0087ff\">Dense</span>)                │ (<span style=\"color: #00d7ff; text-decoration-color: #00d7ff\">None</span>, <span style=\"color: #00af00; text-decoration-color: #00af00\">128</span>)            │     <span style=\"color: #00af00; text-decoration-color: #00af00\">2,343,040</span> │\n",
       "├─────────────────────────────────┼────────────────────────┼───────────────┤\n",
       "│ dropout_10 (<span style=\"color: #0087ff; text-decoration-color: #0087ff\">Dropout</span>)            │ (<span style=\"color: #00d7ff; text-decoration-color: #00d7ff\">None</span>, <span style=\"color: #00af00; text-decoration-color: #00af00\">128</span>)            │             <span style=\"color: #00af00; text-decoration-color: #00af00\">0</span> │\n",
       "├─────────────────────────────────┼────────────────────────┼───────────────┤\n",
       "│ dense_14 (<span style=\"color: #0087ff; text-decoration-color: #0087ff\">Dense</span>)                │ (<span style=\"color: #00d7ff; text-decoration-color: #00d7ff\">None</span>, <span style=\"color: #00af00; text-decoration-color: #00af00\">64</span>)             │         <span style=\"color: #00af00; text-decoration-color: #00af00\">8,256</span> │\n",
       "├─────────────────────────────────┼────────────────────────┼───────────────┤\n",
       "│ dropout_11 (<span style=\"color: #0087ff; text-decoration-color: #0087ff\">Dropout</span>)            │ (<span style=\"color: #00d7ff; text-decoration-color: #00d7ff\">None</span>, <span style=\"color: #00af00; text-decoration-color: #00af00\">64</span>)             │             <span style=\"color: #00af00; text-decoration-color: #00af00\">0</span> │\n",
       "├─────────────────────────────────┼────────────────────────┼───────────────┤\n",
       "│ dense_15 (<span style=\"color: #0087ff; text-decoration-color: #0087ff\">Dense</span>)                │ (<span style=\"color: #00d7ff; text-decoration-color: #00d7ff\">None</span>, <span style=\"color: #00af00; text-decoration-color: #00af00\">1</span>)              │            <span style=\"color: #00af00; text-decoration-color: #00af00\">65</span> │\n",
       "└─────────────────────────────────┴────────────────────────┴───────────────┘\n",
       "</pre>\n"
      ],
      "text/plain": [
       "┏━━━━━━━━━━━━━━━━━━━━━━━━━━━━━━━━━┳━━━━━━━━━━━━━━━━━━━━━━━━┳━━━━━━━━━━━━━━━┓\n",
       "┃\u001b[1m \u001b[0m\u001b[1mLayer (type)                   \u001b[0m\u001b[1m \u001b[0m┃\u001b[1m \u001b[0m\u001b[1mOutput Shape          \u001b[0m\u001b[1m \u001b[0m┃\u001b[1m \u001b[0m\u001b[1m      Param #\u001b[0m\u001b[1m \u001b[0m┃\n",
       "┡━━━━━━━━━━━━━━━━━━━━━━━━━━━━━━━━━╇━━━━━━━━━━━━━━━━━━━━━━━━╇━━━━━━━━━━━━━━━┩\n",
       "│ conv1d_6 (\u001b[38;5;33mConv1D\u001b[0m)               │ (\u001b[38;5;45mNone\u001b[0m, \u001b[38;5;34m576\u001b[0m, \u001b[38;5;34m64\u001b[0m)        │           \u001b[38;5;34m256\u001b[0m │\n",
       "├─────────────────────────────────┼────────────────────────┼───────────────┤\n",
       "│ batch_normalization_8           │ (\u001b[38;5;45mNone\u001b[0m, \u001b[38;5;34m576\u001b[0m, \u001b[38;5;34m64\u001b[0m)        │           \u001b[38;5;34m256\u001b[0m │\n",
       "│ (\u001b[38;5;33mBatchNormalization\u001b[0m)            │                        │               │\n",
       "├─────────────────────────────────┼────────────────────────┼───────────────┤\n",
       "│ max_pooling1d_6 (\u001b[38;5;33mMaxPooling1D\u001b[0m)  │ (\u001b[38;5;45mNone\u001b[0m, \u001b[38;5;34m288\u001b[0m, \u001b[38;5;34m64\u001b[0m)        │             \u001b[38;5;34m0\u001b[0m │\n",
       "├─────────────────────────────────┼────────────────────────┼───────────────┤\n",
       "│ conv1d_7 (\u001b[38;5;33mConv1D\u001b[0m)               │ (\u001b[38;5;45mNone\u001b[0m, \u001b[38;5;34m286\u001b[0m, \u001b[38;5;34m128\u001b[0m)       │        \u001b[38;5;34m24,704\u001b[0m │\n",
       "├─────────────────────────────────┼────────────────────────┼───────────────┤\n",
       "│ batch_normalization_9           │ (\u001b[38;5;45mNone\u001b[0m, \u001b[38;5;34m286\u001b[0m, \u001b[38;5;34m128\u001b[0m)       │           \u001b[38;5;34m512\u001b[0m │\n",
       "│ (\u001b[38;5;33mBatchNormalization\u001b[0m)            │                        │               │\n",
       "├─────────────────────────────────┼────────────────────────┼───────────────┤\n",
       "│ max_pooling1d_7 (\u001b[38;5;33mMaxPooling1D\u001b[0m)  │ (\u001b[38;5;45mNone\u001b[0m, \u001b[38;5;34m143\u001b[0m, \u001b[38;5;34m128\u001b[0m)       │             \u001b[38;5;34m0\u001b[0m │\n",
       "├─────────────────────────────────┼────────────────────────┼───────────────┤\n",
       "│ flatten_3 (\u001b[38;5;33mFlatten\u001b[0m)             │ (\u001b[38;5;45mNone\u001b[0m, \u001b[38;5;34m18304\u001b[0m)          │             \u001b[38;5;34m0\u001b[0m │\n",
       "├─────────────────────────────────┼────────────────────────┼───────────────┤\n",
       "│ dense_13 (\u001b[38;5;33mDense\u001b[0m)                │ (\u001b[38;5;45mNone\u001b[0m, \u001b[38;5;34m128\u001b[0m)            │     \u001b[38;5;34m2,343,040\u001b[0m │\n",
       "├─────────────────────────────────┼────────────────────────┼───────────────┤\n",
       "│ dropout_10 (\u001b[38;5;33mDropout\u001b[0m)            │ (\u001b[38;5;45mNone\u001b[0m, \u001b[38;5;34m128\u001b[0m)            │             \u001b[38;5;34m0\u001b[0m │\n",
       "├─────────────────────────────────┼────────────────────────┼───────────────┤\n",
       "│ dense_14 (\u001b[38;5;33mDense\u001b[0m)                │ (\u001b[38;5;45mNone\u001b[0m, \u001b[38;5;34m64\u001b[0m)             │         \u001b[38;5;34m8,256\u001b[0m │\n",
       "├─────────────────────────────────┼────────────────────────┼───────────────┤\n",
       "│ dropout_11 (\u001b[38;5;33mDropout\u001b[0m)            │ (\u001b[38;5;45mNone\u001b[0m, \u001b[38;5;34m64\u001b[0m)             │             \u001b[38;5;34m0\u001b[0m │\n",
       "├─────────────────────────────────┼────────────────────────┼───────────────┤\n",
       "│ dense_15 (\u001b[38;5;33mDense\u001b[0m)                │ (\u001b[38;5;45mNone\u001b[0m, \u001b[38;5;34m1\u001b[0m)              │            \u001b[38;5;34m65\u001b[0m │\n",
       "└─────────────────────────────────┴────────────────────────┴───────────────┘\n"
      ]
     },
     "metadata": {},
     "output_type": "display_data"
    },
    {
     "data": {
      "text/html": [
       "<pre style=\"white-space:pre;overflow-x:auto;line-height:normal;font-family:Menlo,'DejaVu Sans Mono',consolas,'Courier New',monospace\"><span style=\"font-weight: bold\"> Total params: </span><span style=\"color: #00af00; text-decoration-color: #00af00\">2,377,089</span> (9.07 MB)\n",
       "</pre>\n"
      ],
      "text/plain": [
       "\u001b[1m Total params: \u001b[0m\u001b[38;5;34m2,377,089\u001b[0m (9.07 MB)\n"
      ]
     },
     "metadata": {},
     "output_type": "display_data"
    },
    {
     "data": {
      "text/html": [
       "<pre style=\"white-space:pre;overflow-x:auto;line-height:normal;font-family:Menlo,'DejaVu Sans Mono',consolas,'Courier New',monospace\"><span style=\"font-weight: bold\"> Trainable params: </span><span style=\"color: #00af00; text-decoration-color: #00af00\">2,376,705</span> (9.07 MB)\n",
       "</pre>\n"
      ],
      "text/plain": [
       "\u001b[1m Trainable params: \u001b[0m\u001b[38;5;34m2,376,705\u001b[0m (9.07 MB)\n"
      ]
     },
     "metadata": {},
     "output_type": "display_data"
    },
    {
     "data": {
      "text/html": [
       "<pre style=\"white-space:pre;overflow-x:auto;line-height:normal;font-family:Menlo,'DejaVu Sans Mono',consolas,'Courier New',monospace\"><span style=\"font-weight: bold\"> Non-trainable params: </span><span style=\"color: #00af00; text-decoration-color: #00af00\">384</span> (1.50 KB)\n",
       "</pre>\n"
      ],
      "text/plain": [
       "\u001b[1m Non-trainable params: \u001b[0m\u001b[38;5;34m384\u001b[0m (1.50 KB)\n"
      ]
     },
     "metadata": {},
     "output_type": "display_data"
    }
   ],
   "source": [
    "# Define CNN model\n",
    "model = Sequential()\n",
    "\n",
    "# Add convolutional layers\n",
    "model.add(Conv1D(filters=64, kernel_size=3, activation='relu', input_shape=(X_train_resampled.shape[1], 1)))\n",
    "model.add(BatchNormalization())\n",
    "model.add(MaxPooling1D(pool_size=2))\n",
    "\n",
    "model.add(Conv1D(filters=128, kernel_size=3, activation='relu'))\n",
    "model.add(BatchNormalization())\n",
    "model.add(MaxPooling1D(pool_size=2))\n",
    "\n",
    "# Flatten the feature map for fully connected layers\n",
    "model.add(Flatten())\n",
    "\n",
    "# Fully connected layers\n",
    "model.add(Dense(128, activation='relu'))\n",
    "model.add(Dropout(0.5))\n",
    "model.add(Dense(64, activation='relu'))\n",
    "model.add(Dropout(0.5))\n",
    "\n",
    "# Output layer\n",
    "model.add(Dense(1, activation='sigmoid'))  # Use 'softmax' for multi-class\n",
    "\n",
    "# Compile the model\n",
    "model.compile(optimizer=Adam(learning_rate=0.001),\n",
    "              loss='binary_crossentropy',  # Use 'categorical_crossentropy' for multi-class\n",
    "              metrics=['accuracy'])\n",
    "\n",
    "# Display model architecture\n",
    "model.summary()"
   ]
  },
  {
   "cell_type": "code",
   "execution_count": 116,
   "metadata": {
    "execution": {
     "iopub.execute_input": "2024-12-27T12:05:45.096955Z",
     "iopub.status.busy": "2024-12-27T12:05:45.096624Z",
     "iopub.status.idle": "2024-12-27T12:05:45.749926Z",
     "shell.execute_reply": "2024-12-27T12:05:45.748837Z",
     "shell.execute_reply.started": "2024-12-27T12:05:45.096918Z"
    },
    "trusted": true
   },
   "outputs": [],
   "source": [
    "# Reshape input data for CNN\n",
    "X_train_resampled = X_train_resampled.values.reshape(X_train_resampled.shape[0], X_train_resampled.shape[1], 1)\n",
    "X_val = X_val.values.reshape(X_val.shape[0], X_val.shape[1], 1)\n",
    "X_test = X_test.values.reshape(X_test.shape[0], X_test.shape[1], 1)\n"
   ]
  },
  {
   "cell_type": "code",
   "execution_count": 117,
   "metadata": {
    "execution": {
     "iopub.execute_input": "2024-12-27T12:05:45.751328Z",
     "iopub.status.busy": "2024-12-27T12:05:45.751064Z",
     "iopub.status.idle": "2024-12-27T12:05:46.080039Z",
     "shell.execute_reply": "2024-12-27T12:05:46.079259Z",
     "shell.execute_reply.started": "2024-12-27T12:05:45.751304Z"
    },
    "trusted": true
   },
   "outputs": [],
   "source": [
    "# Convert target variables to numeric arrays\n",
    "y_train_resampled = y_train_resampled.astype('float32')\n",
    "y_val = y_val.astype('float32')\n",
    "y_test = y_test.astype('float32')\n",
    "\n",
    "# Convert feature matrices to numpy arrays\n",
    "X_train_resampled = X_train_resampled.astype('float32').reshape(X_train_resampled.shape[0], X_train_resampled.shape[1], 1)\n",
    "X_val = X_val.astype('float32').reshape(X_val.shape[0], X_val.shape[1], 1)\n",
    "X_test = X_test.astype('float32').reshape(X_test.shape[0], X_test.shape[1], 1)"
   ]
  },
  {
   "cell_type": "code",
   "execution_count": 118,
   "metadata": {
    "execution": {
     "iopub.execute_input": "2024-12-27T12:05:46.081340Z",
     "iopub.status.busy": "2024-12-27T12:05:46.081070Z",
     "iopub.status.idle": "2024-12-27T12:13:26.256987Z",
     "shell.execute_reply": "2024-12-27T12:13:26.256285Z",
     "shell.execute_reply.started": "2024-12-27T12:05:46.081314Z"
    },
    "trusted": true
   },
   "outputs": [
    {
     "name": "stdout",
     "output_type": "stream",
     "text": [
      "Epoch 1/10\n",
      "\u001b[1m9271/9271\u001b[0m \u001b[32m━━━━━━━━━━━━━━━━━━━━\u001b[0m\u001b[37m\u001b[0m \u001b[1m55s\u001b[0m 5ms/step - accuracy: 0.6934 - loss: 0.8716 - val_accuracy: 0.6661 - val_loss: 1.0214\n",
      "Epoch 2/10\n",
      "\u001b[1m9271/9271\u001b[0m \u001b[32m━━━━━━━━━━━━━━━━━━━━\u001b[0m\u001b[37m\u001b[0m \u001b[1m45s\u001b[0m 5ms/step - accuracy: 0.7725 - loss: 0.4100 - val_accuracy: 0.9506 - val_loss: 0.3885\n",
      "Epoch 3/10\n",
      "\u001b[1m9271/9271\u001b[0m \u001b[32m━━━━━━━━━━━━━━━━━━━━\u001b[0m\u001b[37m\u001b[0m \u001b[1m45s\u001b[0m 5ms/step - accuracy: 0.8013 - loss: 0.4026 - val_accuracy: 0.7031 - val_loss: 0.7183\n",
      "Epoch 4/10\n",
      "\u001b[1m9271/9271\u001b[0m \u001b[32m━━━━━━━━━━━━━━━━━━━━\u001b[0m\u001b[37m\u001b[0m \u001b[1m45s\u001b[0m 5ms/step - accuracy: 0.8242 - loss: 0.4044 - val_accuracy: 0.6493 - val_loss: 0.8688\n",
      "Epoch 5/10\n",
      "\u001b[1m9271/9271\u001b[0m \u001b[32m━━━━━━━━━━━━━━━━━━━━\u001b[0m\u001b[37m\u001b[0m \u001b[1m45s\u001b[0m 5ms/step - accuracy: 0.8216 - loss: 0.4047 - val_accuracy: 0.5603 - val_loss: 1.3011\n",
      "Epoch 6/10\n",
      "\u001b[1m9271/9271\u001b[0m \u001b[32m━━━━━━━━━━━━━━━━━━━━\u001b[0m\u001b[37m\u001b[0m \u001b[1m45s\u001b[0m 5ms/step - accuracy: 0.8256 - loss: 0.3892 - val_accuracy: 0.9688 - val_loss: 0.1337\n",
      "Epoch 7/10\n",
      "\u001b[1m9271/9271\u001b[0m \u001b[32m━━━━━━━━━━━━━━━━━━━━\u001b[0m\u001b[37m\u001b[0m \u001b[1m45s\u001b[0m 5ms/step - accuracy: 0.8110 - loss: 0.4140 - val_accuracy: 0.6069 - val_loss: 1.0009\n",
      "Epoch 8/10\n",
      "\u001b[1m9271/9271\u001b[0m \u001b[32m━━━━━━━━━━━━━━━━━━━━\u001b[0m\u001b[37m\u001b[0m \u001b[1m45s\u001b[0m 5ms/step - accuracy: 0.8342 - loss: 0.3840 - val_accuracy: 0.4455 - val_loss: 1.3092\n",
      "Epoch 9/10\n",
      "\u001b[1m9271/9271\u001b[0m \u001b[32m━━━━━━━━━━━━━━━━━━━━\u001b[0m\u001b[37m\u001b[0m \u001b[1m45s\u001b[0m 5ms/step - accuracy: 0.8326 - loss: 0.3957 - val_accuracy: 0.4244 - val_loss: 1.4235\n",
      "Epoch 10/10\n",
      "\u001b[1m9271/9271\u001b[0m \u001b[32m━━━━━━━━━━━━━━━━━━━━\u001b[0m\u001b[37m\u001b[0m \u001b[1m45s\u001b[0m 5ms/step - accuracy: 0.8169 - loss: 0.3957 - val_accuracy: 0.3725 - val_loss: 3.3634\n"
     ]
    }
   ],
   "source": [
    "# Early stopping\n",
    "early_stopping = EarlyStopping(monitor='val_loss', patience=5, restore_best_weights=True)\n",
    "\n",
    "# Train the model\n",
    "history = model.fit(\n",
    "    X_train_resampled, y_train_resampled,\n",
    "    epochs=10,\n",
    "    batch_size=32,\n",
    "    validation_data=(X_val, y_val),\n",
    "    class_weight=class_weight_dict,  # Apply class weights\n",
    "    callbacks=[early_stopping]\n",
    ")"
   ]
  },
  {
   "cell_type": "code",
   "execution_count": 119,
   "metadata": {
    "execution": {
     "iopub.execute_input": "2024-12-27T12:13:26.258574Z",
     "iopub.status.busy": "2024-12-27T12:13:26.258233Z",
     "iopub.status.idle": "2024-12-27T12:13:32.187540Z",
     "shell.execute_reply": "2024-12-27T12:13:32.186636Z",
     "shell.execute_reply.started": "2024-12-27T12:13:26.258528Z"
    },
    "trusted": true
   },
   "outputs": [
    {
     "name": "stdout",
     "output_type": "stream",
     "text": [
      "\u001b[1m1517/1517\u001b[0m \u001b[32m━━━━━━━━━━━━━━━━━━━━\u001b[0m\u001b[37m\u001b[0m \u001b[1m2s\u001b[0m 2ms/step - accuracy: 0.9687 - loss: 0.1351\n",
      "Test Loss: 0.1368279755115509\n",
      "Test Accuracy: 0.9679465889930725\n",
      "\u001b[1m1517/1517\u001b[0m \u001b[32m━━━━━━━━━━━━━━━━━━━━\u001b[0m\u001b[37m\u001b[0m \u001b[1m2s\u001b[0m 1ms/step\n",
      "              precision    recall  f1-score   support\n",
      "\n",
      "         0.0       0.98      0.98      0.98     46727\n",
      "         1.0       0.58      0.55      0.56      1817\n",
      "\n",
      "    accuracy                           0.97     48544\n",
      "   macro avg       0.78      0.77      0.77     48544\n",
      "weighted avg       0.97      0.97      0.97     48544\n",
      "\n",
      "[[45993   734]\n",
      " [  822   995]]\n"
     ]
    }
   ],
   "source": [
    "# Evaluate on the test set\n",
    "test_loss, test_accuracy = model.evaluate(X_test, y_test)\n",
    "print(f\"Test Loss: {test_loss}\")\n",
    "print(f\"Test Accuracy: {test_accuracy}\")\n",
    "\n",
    "# Predictions and evaluation\n",
    "y_pred = (model.predict(X_test) > 0.5).astype(\"int32\")\n",
    "print(classification_report(y_test, y_pred))\n",
    "print(confusion_matrix(y_test, y_pred))"
   ]
  },
  {
   "cell_type": "code",
   "execution_count": 111,
   "metadata": {
    "execution": {
     "iopub.execute_input": "2024-12-27T12:05:40.265996Z",
     "iopub.status.busy": "2024-12-27T12:05:40.265608Z",
     "iopub.status.idle": "2024-12-27T12:05:40.304188Z",
     "shell.execute_reply": "2024-12-27T12:05:40.303633Z",
     "shell.execute_reply.started": "2024-12-27T12:05:40.265959Z"
    },
    "trusted": true
   },
   "outputs": [],
   "source": [
    "\n"
   ]
  }
 ],
 "metadata": {
  "kaggle": {
   "accelerator": "nvidiaTeslaT4",
   "dataSources": [
    {
     "datasetId": 6239597,
     "sourceId": 10113408,
     "sourceType": "datasetVersion"
    }
   ],
   "dockerImageVersionId": 30805,
   "isGpuEnabled": true,
   "isInternetEnabled": true,
   "language": "python",
   "sourceType": "notebook"
  },
  "kernelspec": {
   "display_name": "Python 3",
   "language": "python",
   "name": "python3"
  },
  "language_info": {
   "codemirror_mode": {
    "name": "ipython",
    "version": 3
   },
   "file_extension": ".py",
   "mimetype": "text/x-python",
   "name": "python",
   "nbconvert_exporter": "python",
   "pygments_lexer": "ipython3",
   "version": "3.10.14"
  }
 },
 "nbformat": 4,
 "nbformat_minor": 4
}

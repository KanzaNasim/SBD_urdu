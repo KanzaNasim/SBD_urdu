{
 "cells": [
  {
   "cell_type": "code",
   "execution_count": 2,
   "metadata": {
    "execution": {
     "iopub.execute_input": "2024-12-05T19:57:26.896459Z",
     "iopub.status.busy": "2024-12-05T19:57:26.896106Z",
     "iopub.status.idle": "2024-12-05T19:57:26.900463Z",
     "shell.execute_reply": "2024-12-05T19:57:26.899459Z",
     "shell.execute_reply.started": "2024-12-05T19:57:26.896432Z"
    },
    "trusted": true
   },
   "outputs": [],
   "source": [
    "import pandas as pd"
   ]
  },
  {
   "cell_type": "code",
   "execution_count": 5,
   "metadata": {
    "execution": {
     "iopub.execute_input": "2024-12-05T20:00:36.969894Z",
     "iopub.status.busy": "2024-12-05T20:00:36.968969Z",
     "iopub.status.idle": "2024-12-05T20:00:37.493552Z",
     "shell.execute_reply": "2024-12-05T20:00:37.492769Z",
     "shell.execute_reply.started": "2024-12-05T20:00:36.969854Z"
    },
    "trusted": true
   },
   "outputs": [
    {
     "data": {
      "text/html": [
       "<div>\n",
       "<style scoped>\n",
       "    .dataframe tbody tr th:only-of-type {\n",
       "        vertical-align: middle;\n",
       "    }\n",
       "\n",
       "    .dataframe tbody tr th {\n",
       "        vertical-align: top;\n",
       "    }\n",
       "\n",
       "    .dataframe thead th {\n",
       "        text-align: right;\n",
       "    }\n",
       "</style>\n",
       "<table border=\"1\" class=\"dataframe\">\n",
       "  <thead>\n",
       "    <tr style=\"text-align: right;\">\n",
       "      <th></th>\n",
       "      <th>id</th>\n",
       "      <th>text</th>\n",
       "      <th>lemma</th>\n",
       "      <th>upos</th>\n",
       "      <th>xpos</th>\n",
       "      <th>head</th>\n",
       "      <th>deprel</th>\n",
       "      <th>start_char</th>\n",
       "      <th>end_char</th>\n",
       "    </tr>\n",
       "  </thead>\n",
       "  <tbody>\n",
       "    <tr>\n",
       "      <th>0</th>\n",
       "      <td>1</td>\n",
       "      <td>اس</td>\n",
       "      <td>یہ</td>\n",
       "      <td>DET</td>\n",
       "      <td>DEM</td>\n",
       "      <td>2</td>\n",
       "      <td>det</td>\n",
       "      <td>0</td>\n",
       "      <td>2</td>\n",
       "    </tr>\n",
       "    <tr>\n",
       "      <th>1</th>\n",
       "      <td>2</td>\n",
       "      <td>سلسلے</td>\n",
       "      <td>سلسلہ</td>\n",
       "      <td>NOUN</td>\n",
       "      <td>NN</td>\n",
       "      <td>5</td>\n",
       "      <td>nmod</td>\n",
       "      <td>3</td>\n",
       "      <td>8</td>\n",
       "    </tr>\n",
       "    <tr>\n",
       "      <th>2</th>\n",
       "      <td>3</td>\n",
       "      <td>کی</td>\n",
       "      <td>کا</td>\n",
       "      <td>ADP</td>\n",
       "      <td>PSP</td>\n",
       "      <td>2</td>\n",
       "      <td>case</td>\n",
       "      <td>9</td>\n",
       "      <td>11</td>\n",
       "    </tr>\n",
       "    <tr>\n",
       "      <th>3</th>\n",
       "      <td>4</td>\n",
       "      <td>دیگر</td>\n",
       "      <td>دیگر</td>\n",
       "      <td>ADJ</td>\n",
       "      <td>JJ</td>\n",
       "      <td>5</td>\n",
       "      <td>amod</td>\n",
       "      <td>12</td>\n",
       "      <td>16</td>\n",
       "    </tr>\n",
       "    <tr>\n",
       "      <th>4</th>\n",
       "      <td>5</td>\n",
       "      <td>اقساط</td>\n",
       "      <td>اقساط</td>\n",
       "      <td>NOUN</td>\n",
       "      <td>NN</td>\n",
       "      <td>7</td>\n",
       "      <td>nsubj</td>\n",
       "      <td>17</td>\n",
       "      <td>22</td>\n",
       "    </tr>\n",
       "  </tbody>\n",
       "</table>\n",
       "</div>"
      ],
      "text/plain": [
       "   id   text  lemma  upos xpos  head deprel  start_char  end_char\n",
       "0   1     اس     یہ   DET  DEM     2    det           0         2\n",
       "1   2  سلسلے  سلسلہ  NOUN   NN     5   nmod           3         8\n",
       "2   3     کی     کا   ADP  PSP     2   case           9        11\n",
       "3   4   دیگر   دیگر   ADJ   JJ     5   amod          12        16\n",
       "4   5  اقساط  اقساط  NOUN   NN     7  nsubj          17        22"
      ]
     },
     "execution_count": 5,
     "metadata": {},
     "output_type": "execute_result"
    }
   ],
   "source": [
    "# Read the CSV file\n",
    "df = pd.read_csv('/kaggle/input/sbd-data/dataset.csv')\n",
    "\n",
    "df.head()"
   ]
  },
  {
   "cell_type": "code",
   "execution_count": 6,
   "metadata": {
    "execution": {
     "iopub.execute_input": "2024-12-05T20:00:40.584499Z",
     "iopub.status.busy": "2024-12-05T20:00:40.583845Z",
     "iopub.status.idle": "2024-12-05T20:00:40.610202Z",
     "shell.execute_reply": "2024-12-05T20:00:40.609250Z",
     "shell.execute_reply.started": "2024-12-05T20:00:40.584468Z"
    },
    "trusted": true
   },
   "outputs": [],
   "source": [
    "data = df.drop(columns=['id'])"
   ]
  },
  {
   "cell_type": "code",
   "execution_count": 7,
   "metadata": {
    "execution": {
     "iopub.execute_input": "2024-12-05T20:00:42.488999Z",
     "iopub.status.busy": "2024-12-05T20:00:42.488229Z",
     "iopub.status.idle": "2024-12-05T20:00:42.583576Z",
     "shell.execute_reply": "2024-12-05T20:00:42.582705Z",
     "shell.execute_reply.started": "2024-12-05T20:00:42.488965Z"
    },
    "trusted": true
   },
   "outputs": [],
   "source": [
    "data['y'] = data['text'].apply(lambda x: 1 if x in ['۔'] else 0)"
   ]
  },
  {
   "cell_type": "code",
   "execution_count": 8,
   "metadata": {
    "execution": {
     "iopub.execute_input": "2024-12-05T20:00:44.512627Z",
     "iopub.status.busy": "2024-12-05T20:00:44.512260Z",
     "iopub.status.idle": "2024-12-05T20:00:45.182136Z",
     "shell.execute_reply": "2024-12-05T20:00:45.181233Z",
     "shell.execute_reply.started": "2024-12-05T20:00:44.512595Z"
    },
    "trusted": true
   },
   "outputs": [],
   "source": [
    "import pandas as pd\n",
    "from sklearn.feature_extraction.text import CountVectorizer\n",
    "from sklearn.preprocessing import OneHotEncoder, StandardScaler\n",
    "from sklearn.svm import SVC\n",
    "from sklearn.model_selection import train_test_split"
   ]
  },
  {
   "cell_type": "code",
   "execution_count": 9,
   "metadata": {
    "execution": {
     "iopub.execute_input": "2024-12-05T20:00:47.765988Z",
     "iopub.status.busy": "2024-12-05T20:00:47.765264Z",
     "iopub.status.idle": "2024-12-05T20:00:48.435045Z",
     "shell.execute_reply": "2024-12-05T20:00:48.434154Z",
     "shell.execute_reply.started": "2024-12-05T20:00:47.765945Z"
    },
    "trusted": true
   },
   "outputs": [
    {
     "name": "stderr",
     "output_type": "stream",
     "text": [
      "/opt/conda/lib/python3.10/site-packages/sklearn/preprocessing/_encoders.py:868: FutureWarning: `sparse` was renamed to `sparse_output` in version 1.2 and will be removed in 1.4. `sparse_output` is ignored unless you leave `sparse` to its default value.\n",
      "  warnings.warn(\n"
     ]
    }
   ],
   "source": [
    "# One-hot encode 'upos', 'xpos', and 'deprel'\n",
    "encoder = OneHotEncoder(sparse=False)\n",
    "encoded_cats = encoder.fit_transform(data[['upos', 'xpos', 'deprel']])\n",
    "\n",
    "# Convert to DataFrame for easier merging\n",
    "encoded_cats_df = pd.DataFrame(encoded_cats, columns=encoder.get_feature_names_out())\n",
    "\n",
    "# Concatenate encoded features back to the dataset\n",
    "data = pd.concat([data.reset_index(drop=True), encoded_cats_df], axis=1)\n",
    "\n",
    "# Drop the original categorical columns (optional)\n",
    "data = data.drop(columns=['upos', 'xpos', 'deprel'])"
   ]
  },
  {
   "cell_type": "code",
   "execution_count": 10,
   "metadata": {
    "execution": {
     "iopub.execute_input": "2024-12-05T20:00:52.688195Z",
     "iopub.status.busy": "2024-12-05T20:00:52.687409Z",
     "iopub.status.idle": "2024-12-05T20:00:52.706088Z",
     "shell.execute_reply": "2024-12-05T20:00:52.705427Z",
     "shell.execute_reply.started": "2024-12-05T20:00:52.688161Z"
    },
    "trusted": true
   },
   "outputs": [],
   "source": [
    "# Select the numerical features to normalize\n",
    "numerical_features = ['start_char', 'end_char', 'head']\n",
    "\n",
    "# Option 2: Standard Scaling (zero mean and unit variance)\n",
    "standard_scaler = StandardScaler()\n",
    "data[numerical_features] = standard_scaler.fit_transform(data[numerical_features])"
   ]
  },
  {
   "cell_type": "code",
   "execution_count": 11,
   "metadata": {
    "execution": {
     "iopub.execute_input": "2024-12-05T20:00:55.464022Z",
     "iopub.status.busy": "2024-12-05T20:00:55.463575Z",
     "iopub.status.idle": "2024-12-05T20:00:59.520458Z",
     "shell.execute_reply": "2024-12-05T20:00:59.519429Z",
     "shell.execute_reply.started": "2024-12-05T20:00:55.463968Z"
    },
    "trusted": true
   },
   "outputs": [],
   "source": [
    "from sklearn.feature_extraction.text import TfidfVectorizer\n",
    "\n",
    "# Combine text and lemma columns into a single string representation (if needed)\n",
    "data['text_lemma'] = data['text'] + \" \" + data['lemma']\n",
    "\n",
    "# Initialize TF-IDF Vectorizer\n",
    "tfidf_vectorizer = TfidfVectorizer(max_features=500)  # Adjust max_features as needed\n",
    "\n",
    "# Fit and transform the combined text and lemma\n",
    "tfidf_features = tfidf_vectorizer.fit_transform(data['text_lemma'])\n",
    "\n",
    "# Convert the sparse matrix to a DataFrame for better integration\n",
    "tfidf_df = pd.DataFrame(tfidf_features.toarray(), columns=tfidf_vectorizer.get_feature_names_out())\n",
    "\n",
    "# Add the TF-IDF features back to the original DataFrame\n",
    "data = pd.concat([data.reset_index(drop=True), tfidf_df], axis=1)\n",
    "\n",
    "# Drop the original text and lemma columns (optional)\n",
    "data = data.drop(columns=['text', 'lemma', 'text_lemma'])"
   ]
  },
  {
   "cell_type": "code",
   "execution_count": 14,
   "metadata": {
    "execution": {
     "iopub.execute_input": "2024-12-05T20:02:21.117749Z",
     "iopub.status.busy": "2024-12-05T20:02:21.116794Z",
     "iopub.status.idle": "2024-12-05T20:02:21.211181Z",
     "shell.execute_reply": "2024-12-05T20:02:21.210234Z",
     "shell.execute_reply.started": "2024-12-05T20:02:21.117679Z"
    },
    "trusted": true
   },
   "outputs": [
    {
     "data": {
      "text/html": [
       "<div>\n",
       "<style scoped>\n",
       "    .dataframe tbody tr th:only-of-type {\n",
       "        vertical-align: middle;\n",
       "    }\n",
       "\n",
       "    .dataframe tbody tr th {\n",
       "        vertical-align: top;\n",
       "    }\n",
       "\n",
       "    .dataframe thead th {\n",
       "        text-align: right;\n",
       "    }\n",
       "</style>\n",
       "<table border=\"1\" class=\"dataframe\">\n",
       "  <thead>\n",
       "    <tr style=\"text-align: right;\">\n",
       "      <th></th>\n",
       "      <th>head</th>\n",
       "      <th>start_char</th>\n",
       "      <th>end_char</th>\n",
       "      <th>y</th>\n",
       "      <th>upos_ADJ</th>\n",
       "      <th>upos_ADP</th>\n",
       "      <th>upos_ADV</th>\n",
       "      <th>upos_AUX</th>\n",
       "      <th>upos_CCONJ</th>\n",
       "      <th>upos_DET</th>\n",
       "      <th>...</th>\n",
       "      <th>ہوں</th>\n",
       "      <th>ہی</th>\n",
       "      <th>ہیں</th>\n",
       "      <th>ہے</th>\n",
       "      <th>یا</th>\n",
       "      <th>یعنی</th>\n",
       "      <th>یقینا</th>\n",
       "      <th>یہ</th>\n",
       "      <th>یہاں</th>\n",
       "      <th>یہی</th>\n",
       "    </tr>\n",
       "  </thead>\n",
       "  <tbody>\n",
       "    <tr>\n",
       "      <th>0</th>\n",
       "      <td>-1.051740</td>\n",
       "      <td>-1.732661</td>\n",
       "      <td>-1.732666</td>\n",
       "      <td>0</td>\n",
       "      <td>0.0</td>\n",
       "      <td>0.0</td>\n",
       "      <td>0.0</td>\n",
       "      <td>0.0</td>\n",
       "      <td>0.0</td>\n",
       "      <td>1.0</td>\n",
       "      <td>...</td>\n",
       "      <td>0.0</td>\n",
       "      <td>0.0</td>\n",
       "      <td>0.0</td>\n",
       "      <td>0.0</td>\n",
       "      <td>0.0</td>\n",
       "      <td>0.0</td>\n",
       "      <td>0.0</td>\n",
       "      <td>0.646811</td>\n",
       "      <td>0.0</td>\n",
       "      <td>0.0</td>\n",
       "    </tr>\n",
       "    <tr>\n",
       "      <th>1</th>\n",
       "      <td>-0.857181</td>\n",
       "      <td>-1.732652</td>\n",
       "      <td>-1.732647</td>\n",
       "      <td>0</td>\n",
       "      <td>0.0</td>\n",
       "      <td>0.0</td>\n",
       "      <td>0.0</td>\n",
       "      <td>0.0</td>\n",
       "      <td>0.0</td>\n",
       "      <td>0.0</td>\n",
       "      <td>...</td>\n",
       "      <td>0.0</td>\n",
       "      <td>0.0</td>\n",
       "      <td>0.0</td>\n",
       "      <td>0.0</td>\n",
       "      <td>0.0</td>\n",
       "      <td>0.0</td>\n",
       "      <td>0.0</td>\n",
       "      <td>0.000000</td>\n",
       "      <td>0.0</td>\n",
       "      <td>0.0</td>\n",
       "    </tr>\n",
       "    <tr>\n",
       "      <th>2</th>\n",
       "      <td>-1.051740</td>\n",
       "      <td>-1.732634</td>\n",
       "      <td>-1.732638</td>\n",
       "      <td>0</td>\n",
       "      <td>0.0</td>\n",
       "      <td>1.0</td>\n",
       "      <td>0.0</td>\n",
       "      <td>0.0</td>\n",
       "      <td>0.0</td>\n",
       "      <td>0.0</td>\n",
       "      <td>...</td>\n",
       "      <td>0.0</td>\n",
       "      <td>0.0</td>\n",
       "      <td>0.0</td>\n",
       "      <td>0.0</td>\n",
       "      <td>0.0</td>\n",
       "      <td>0.0</td>\n",
       "      <td>0.0</td>\n",
       "      <td>0.000000</td>\n",
       "      <td>0.0</td>\n",
       "      <td>0.0</td>\n",
       "    </tr>\n",
       "    <tr>\n",
       "      <th>3</th>\n",
       "      <td>-0.857181</td>\n",
       "      <td>-1.732625</td>\n",
       "      <td>-1.732623</td>\n",
       "      <td>0</td>\n",
       "      <td>1.0</td>\n",
       "      <td>0.0</td>\n",
       "      <td>0.0</td>\n",
       "      <td>0.0</td>\n",
       "      <td>0.0</td>\n",
       "      <td>0.0</td>\n",
       "      <td>...</td>\n",
       "      <td>0.0</td>\n",
       "      <td>0.0</td>\n",
       "      <td>0.0</td>\n",
       "      <td>0.0</td>\n",
       "      <td>0.0</td>\n",
       "      <td>0.0</td>\n",
       "      <td>0.0</td>\n",
       "      <td>0.000000</td>\n",
       "      <td>0.0</td>\n",
       "      <td>0.0</td>\n",
       "    </tr>\n",
       "    <tr>\n",
       "      <th>4</th>\n",
       "      <td>-0.727474</td>\n",
       "      <td>-1.732609</td>\n",
       "      <td>-1.732604</td>\n",
       "      <td>0</td>\n",
       "      <td>0.0</td>\n",
       "      <td>0.0</td>\n",
       "      <td>0.0</td>\n",
       "      <td>0.0</td>\n",
       "      <td>0.0</td>\n",
       "      <td>0.0</td>\n",
       "      <td>...</td>\n",
       "      <td>0.0</td>\n",
       "      <td>0.0</td>\n",
       "      <td>0.0</td>\n",
       "      <td>0.0</td>\n",
       "      <td>0.0</td>\n",
       "      <td>0.0</td>\n",
       "      <td>0.0</td>\n",
       "      <td>0.000000</td>\n",
       "      <td>0.0</td>\n",
       "      <td>0.0</td>\n",
       "    </tr>\n",
       "    <tr>\n",
       "      <th>...</th>\n",
       "      <td>...</td>\n",
       "      <td>...</td>\n",
       "      <td>...</td>\n",
       "      <td>...</td>\n",
       "      <td>...</td>\n",
       "      <td>...</td>\n",
       "      <td>...</td>\n",
       "      <td>...</td>\n",
       "      <td>...</td>\n",
       "      <td>...</td>\n",
       "      <td>...</td>\n",
       "      <td>...</td>\n",
       "      <td>...</td>\n",
       "      <td>...</td>\n",
       "      <td>...</td>\n",
       "      <td>...</td>\n",
       "      <td>...</td>\n",
       "      <td>...</td>\n",
       "      <td>...</td>\n",
       "      <td>...</td>\n",
       "      <td>...</td>\n",
       "    </tr>\n",
       "    <tr>\n",
       "      <th>254923</th>\n",
       "      <td>2.580032</td>\n",
       "      <td>1.737197</td>\n",
       "      <td>1.737196</td>\n",
       "      <td>0</td>\n",
       "      <td>0.0</td>\n",
       "      <td>0.0</td>\n",
       "      <td>0.0</td>\n",
       "      <td>0.0</td>\n",
       "      <td>0.0</td>\n",
       "      <td>0.0</td>\n",
       "      <td>...</td>\n",
       "      <td>0.0</td>\n",
       "      <td>0.0</td>\n",
       "      <td>0.0</td>\n",
       "      <td>0.0</td>\n",
       "      <td>0.0</td>\n",
       "      <td>0.0</td>\n",
       "      <td>0.0</td>\n",
       "      <td>0.000000</td>\n",
       "      <td>0.0</td>\n",
       "      <td>0.0</td>\n",
       "    </tr>\n",
       "    <tr>\n",
       "      <th>254924</th>\n",
       "      <td>1.672089</td>\n",
       "      <td>1.737209</td>\n",
       "      <td>1.737214</td>\n",
       "      <td>0</td>\n",
       "      <td>0.0</td>\n",
       "      <td>0.0</td>\n",
       "      <td>0.0</td>\n",
       "      <td>0.0</td>\n",
       "      <td>0.0</td>\n",
       "      <td>0.0</td>\n",
       "      <td>...</td>\n",
       "      <td>0.0</td>\n",
       "      <td>0.0</td>\n",
       "      <td>0.0</td>\n",
       "      <td>0.0</td>\n",
       "      <td>0.0</td>\n",
       "      <td>0.0</td>\n",
       "      <td>0.0</td>\n",
       "      <td>0.000000</td>\n",
       "      <td>0.0</td>\n",
       "      <td>0.0</td>\n",
       "    </tr>\n",
       "    <tr>\n",
       "      <th>254925</th>\n",
       "      <td>2.580032</td>\n",
       "      <td>1.737228</td>\n",
       "      <td>1.737236</td>\n",
       "      <td>0</td>\n",
       "      <td>0.0</td>\n",
       "      <td>0.0</td>\n",
       "      <td>0.0</td>\n",
       "      <td>1.0</td>\n",
       "      <td>0.0</td>\n",
       "      <td>0.0</td>\n",
       "      <td>...</td>\n",
       "      <td>0.0</td>\n",
       "      <td>0.0</td>\n",
       "      <td>0.0</td>\n",
       "      <td>0.0</td>\n",
       "      <td>0.0</td>\n",
       "      <td>0.0</td>\n",
       "      <td>0.0</td>\n",
       "      <td>0.000000</td>\n",
       "      <td>0.0</td>\n",
       "      <td>0.0</td>\n",
       "    </tr>\n",
       "    <tr>\n",
       "      <th>254926</th>\n",
       "      <td>2.580032</td>\n",
       "      <td>1.737249</td>\n",
       "      <td>1.737245</td>\n",
       "      <td>0</td>\n",
       "      <td>0.0</td>\n",
       "      <td>0.0</td>\n",
       "      <td>0.0</td>\n",
       "      <td>1.0</td>\n",
       "      <td>0.0</td>\n",
       "      <td>0.0</td>\n",
       "      <td>...</td>\n",
       "      <td>0.0</td>\n",
       "      <td>0.0</td>\n",
       "      <td>0.0</td>\n",
       "      <td>1.0</td>\n",
       "      <td>0.0</td>\n",
       "      <td>0.0</td>\n",
       "      <td>0.0</td>\n",
       "      <td>0.000000</td>\n",
       "      <td>0.0</td>\n",
       "      <td>0.0</td>\n",
       "    </tr>\n",
       "    <tr>\n",
       "      <th>254927</th>\n",
       "      <td>2.580032</td>\n",
       "      <td>1.737256</td>\n",
       "      <td>1.737248</td>\n",
       "      <td>1</td>\n",
       "      <td>0.0</td>\n",
       "      <td>0.0</td>\n",
       "      <td>0.0</td>\n",
       "      <td>0.0</td>\n",
       "      <td>0.0</td>\n",
       "      <td>0.0</td>\n",
       "      <td>...</td>\n",
       "      <td>0.0</td>\n",
       "      <td>0.0</td>\n",
       "      <td>0.0</td>\n",
       "      <td>0.0</td>\n",
       "      <td>0.0</td>\n",
       "      <td>0.0</td>\n",
       "      <td>0.0</td>\n",
       "      <td>0.000000</td>\n",
       "      <td>0.0</td>\n",
       "      <td>0.0</td>\n",
       "    </tr>\n",
       "  </tbody>\n",
       "</table>\n",
       "<p>254928 rows × 579 columns</p>\n",
       "</div>"
      ],
      "text/plain": [
       "            head  start_char  end_char  y  upos_ADJ  upos_ADP  upos_ADV  \\\n",
       "0      -1.051740   -1.732661 -1.732666  0       0.0       0.0       0.0   \n",
       "1      -0.857181   -1.732652 -1.732647  0       0.0       0.0       0.0   \n",
       "2      -1.051740   -1.732634 -1.732638  0       0.0       1.0       0.0   \n",
       "3      -0.857181   -1.732625 -1.732623  0       1.0       0.0       0.0   \n",
       "4      -0.727474   -1.732609 -1.732604  0       0.0       0.0       0.0   \n",
       "...          ...         ...       ... ..       ...       ...       ...   \n",
       "254923  2.580032    1.737197  1.737196  0       0.0       0.0       0.0   \n",
       "254924  1.672089    1.737209  1.737214  0       0.0       0.0       0.0   \n",
       "254925  2.580032    1.737228  1.737236  0       0.0       0.0       0.0   \n",
       "254926  2.580032    1.737249  1.737245  0       0.0       0.0       0.0   \n",
       "254927  2.580032    1.737256  1.737248  1       0.0       0.0       0.0   \n",
       "\n",
       "        upos_AUX  upos_CCONJ  upos_DET  ...  ہوں   ہی  ہیں   ہے   یا  یعنی  \\\n",
       "0            0.0         0.0       1.0  ...  0.0  0.0  0.0  0.0  0.0   0.0   \n",
       "1            0.0         0.0       0.0  ...  0.0  0.0  0.0  0.0  0.0   0.0   \n",
       "2            0.0         0.0       0.0  ...  0.0  0.0  0.0  0.0  0.0   0.0   \n",
       "3            0.0         0.0       0.0  ...  0.0  0.0  0.0  0.0  0.0   0.0   \n",
       "4            0.0         0.0       0.0  ...  0.0  0.0  0.0  0.0  0.0   0.0   \n",
       "...          ...         ...       ...  ...  ...  ...  ...  ...  ...   ...   \n",
       "254923       0.0         0.0       0.0  ...  0.0  0.0  0.0  0.0  0.0   0.0   \n",
       "254924       0.0         0.0       0.0  ...  0.0  0.0  0.0  0.0  0.0   0.0   \n",
       "254925       1.0         0.0       0.0  ...  0.0  0.0  0.0  0.0  0.0   0.0   \n",
       "254926       1.0         0.0       0.0  ...  0.0  0.0  0.0  1.0  0.0   0.0   \n",
       "254927       0.0         0.0       0.0  ...  0.0  0.0  0.0  0.0  0.0   0.0   \n",
       "\n",
       "        یقینا        یہ  یہاں  یہی  \n",
       "0         0.0  0.646811   0.0  0.0  \n",
       "1         0.0  0.000000   0.0  0.0  \n",
       "2         0.0  0.000000   0.0  0.0  \n",
       "3         0.0  0.000000   0.0  0.0  \n",
       "4         0.0  0.000000   0.0  0.0  \n",
       "...       ...       ...   ...  ...  \n",
       "254923    0.0  0.000000   0.0  0.0  \n",
       "254924    0.0  0.000000   0.0  0.0  \n",
       "254925    0.0  0.000000   0.0  0.0  \n",
       "254926    0.0  0.000000   0.0  0.0  \n",
       "254927    0.0  0.000000   0.0  0.0  \n",
       "\n",
       "[254928 rows x 579 columns]"
      ]
     },
     "execution_count": 14,
     "metadata": {},
     "output_type": "execute_result"
    }
   ],
   "source": [
    "data"
   ]
  },
  {
   "cell_type": "code",
   "execution_count": 17,
   "metadata": {
    "execution": {
     "iopub.execute_input": "2024-12-05T20:10:24.347214Z",
     "iopub.status.busy": "2024-12-05T20:10:24.346515Z",
     "iopub.status.idle": "2024-12-05T20:10:24.688779Z",
     "shell.execute_reply": "2024-12-05T20:10:24.688058Z",
     "shell.execute_reply.started": "2024-12-05T20:10:24.347180Z"
    },
    "trusted": true
   },
   "outputs": [],
   "source": [
    "# Define the feature matrix (drop 'y') and target\n",
    "X = data.drop(columns=['y'])\n",
    "y = data['y']"
   ]
  },
  {
   "cell_type": "code",
   "execution_count": 28,
   "metadata": {
    "execution": {
     "iopub.execute_input": "2024-12-05T20:29:03.044466Z",
     "iopub.status.busy": "2024-12-05T20:29:03.043648Z",
     "iopub.status.idle": "2024-12-05T20:29:04.647603Z",
     "shell.execute_reply": "2024-12-05T20:29:04.646576Z",
     "shell.execute_reply.started": "2024-12-05T20:29:03.044433Z"
    },
    "trusted": true
   },
   "outputs": [],
   "source": [
    "# Split into training (64%), validation (16%), and test (20%) sets\n",
    "X_train, X_temp, y_train, y_temp = train_test_split(X, y, test_size=0.36, random_state=42, stratify=y)\n",
    "X_val, X_test, y_val, y_test = train_test_split(X_temp, y_temp, test_size=0.56, random_state=42, stratify=y_temp)\n"
   ]
  },
  {
   "cell_type": "code",
   "execution_count": 24,
   "metadata": {
    "execution": {
     "iopub.execute_input": "2024-12-05T20:25:24.431479Z",
     "iopub.status.busy": "2024-12-05T20:25:24.430505Z",
     "iopub.status.idle": "2024-12-05T20:25:24.476006Z",
     "shell.execute_reply": "2024-12-05T20:25:24.475145Z",
     "shell.execute_reply.started": "2024-12-05T20:25:24.431435Z"
    },
    "trusted": true
   },
   "outputs": [
    {
     "data": {
      "text/html": [
       "<pre style=\"white-space:pre;overflow-x:auto;line-height:normal;font-family:Menlo,'DejaVu Sans Mono',consolas,'Courier New',monospace\"><span style=\"font-weight: bold\">Model: \"sequential_3\"</span>\n",
       "</pre>\n"
      ],
      "text/plain": [
       "\u001b[1mModel: \"sequential_3\"\u001b[0m\n"
      ]
     },
     "metadata": {},
     "output_type": "display_data"
    },
    {
     "data": {
      "text/html": [
       "<pre style=\"white-space:pre;overflow-x:auto;line-height:normal;font-family:Menlo,'DejaVu Sans Mono',consolas,'Courier New',monospace\">┏━━━━━━━━━━━━━━━━━━━━━━━━━━━━━━━━━┳━━━━━━━━━━━━━━━━━━━━━━━━┳━━━━━━━━━━━━━━━┓\n",
       "┃<span style=\"font-weight: bold\"> Layer (type)                    </span>┃<span style=\"font-weight: bold\"> Output Shape           </span>┃<span style=\"font-weight: bold\">       Param # </span>┃\n",
       "┡━━━━━━━━━━━━━━━━━━━━━━━━━━━━━━━━━╇━━━━━━━━━━━━━━━━━━━━━━━━╇━━━━━━━━━━━━━━━┩\n",
       "│ dense_9 (<span style=\"color: #0087ff; text-decoration-color: #0087ff\">Dense</span>)                 │ (<span style=\"color: #00d7ff; text-decoration-color: #00d7ff\">None</span>, <span style=\"color: #00af00; text-decoration-color: #00af00\">128</span>)            │        <span style=\"color: #00af00; text-decoration-color: #00af00\">74,112</span> │\n",
       "├─────────────────────────────────┼────────────────────────┼───────────────┤\n",
       "│ dropout_6 (<span style=\"color: #0087ff; text-decoration-color: #0087ff\">Dropout</span>)             │ (<span style=\"color: #00d7ff; text-decoration-color: #00d7ff\">None</span>, <span style=\"color: #00af00; text-decoration-color: #00af00\">128</span>)            │             <span style=\"color: #00af00; text-decoration-color: #00af00\">0</span> │\n",
       "├─────────────────────────────────┼────────────────────────┼───────────────┤\n",
       "│ dense_10 (<span style=\"color: #0087ff; text-decoration-color: #0087ff\">Dense</span>)                │ (<span style=\"color: #00d7ff; text-decoration-color: #00d7ff\">None</span>, <span style=\"color: #00af00; text-decoration-color: #00af00\">64</span>)             │         <span style=\"color: #00af00; text-decoration-color: #00af00\">8,256</span> │\n",
       "├─────────────────────────────────┼────────────────────────┼───────────────┤\n",
       "│ dropout_7 (<span style=\"color: #0087ff; text-decoration-color: #0087ff\">Dropout</span>)             │ (<span style=\"color: #00d7ff; text-decoration-color: #00d7ff\">None</span>, <span style=\"color: #00af00; text-decoration-color: #00af00\">64</span>)             │             <span style=\"color: #00af00; text-decoration-color: #00af00\">0</span> │\n",
       "├─────────────────────────────────┼────────────────────────┼───────────────┤\n",
       "│ dense_11 (<span style=\"color: #0087ff; text-decoration-color: #0087ff\">Dense</span>)                │ (<span style=\"color: #00d7ff; text-decoration-color: #00d7ff\">None</span>, <span style=\"color: #00af00; text-decoration-color: #00af00\">1</span>)              │            <span style=\"color: #00af00; text-decoration-color: #00af00\">65</span> │\n",
       "└─────────────────────────────────┴────────────────────────┴───────────────┘\n",
       "</pre>\n"
      ],
      "text/plain": [
       "┏━━━━━━━━━━━━━━━━━━━━━━━━━━━━━━━━━┳━━━━━━━━━━━━━━━━━━━━━━━━┳━━━━━━━━━━━━━━━┓\n",
       "┃\u001b[1m \u001b[0m\u001b[1mLayer (type)                   \u001b[0m\u001b[1m \u001b[0m┃\u001b[1m \u001b[0m\u001b[1mOutput Shape          \u001b[0m\u001b[1m \u001b[0m┃\u001b[1m \u001b[0m\u001b[1m      Param #\u001b[0m\u001b[1m \u001b[0m┃\n",
       "┡━━━━━━━━━━━━━━━━━━━━━━━━━━━━━━━━━╇━━━━━━━━━━━━━━━━━━━━━━━━╇━━━━━━━━━━━━━━━┩\n",
       "│ dense_9 (\u001b[38;5;33mDense\u001b[0m)                 │ (\u001b[38;5;45mNone\u001b[0m, \u001b[38;5;34m128\u001b[0m)            │        \u001b[38;5;34m74,112\u001b[0m │\n",
       "├─────────────────────────────────┼────────────────────────┼───────────────┤\n",
       "│ dropout_6 (\u001b[38;5;33mDropout\u001b[0m)             │ (\u001b[38;5;45mNone\u001b[0m, \u001b[38;5;34m128\u001b[0m)            │             \u001b[38;5;34m0\u001b[0m │\n",
       "├─────────────────────────────────┼────────────────────────┼───────────────┤\n",
       "│ dense_10 (\u001b[38;5;33mDense\u001b[0m)                │ (\u001b[38;5;45mNone\u001b[0m, \u001b[38;5;34m64\u001b[0m)             │         \u001b[38;5;34m8,256\u001b[0m │\n",
       "├─────────────────────────────────┼────────────────────────┼───────────────┤\n",
       "│ dropout_7 (\u001b[38;5;33mDropout\u001b[0m)             │ (\u001b[38;5;45mNone\u001b[0m, \u001b[38;5;34m64\u001b[0m)             │             \u001b[38;5;34m0\u001b[0m │\n",
       "├─────────────────────────────────┼────────────────────────┼───────────────┤\n",
       "│ dense_11 (\u001b[38;5;33mDense\u001b[0m)                │ (\u001b[38;5;45mNone\u001b[0m, \u001b[38;5;34m1\u001b[0m)              │            \u001b[38;5;34m65\u001b[0m │\n",
       "└─────────────────────────────────┴────────────────────────┴───────────────┘\n"
      ]
     },
     "metadata": {},
     "output_type": "display_data"
    },
    {
     "data": {
      "text/html": [
       "<pre style=\"white-space:pre;overflow-x:auto;line-height:normal;font-family:Menlo,'DejaVu Sans Mono',consolas,'Courier New',monospace\"><span style=\"font-weight: bold\"> Total params: </span><span style=\"color: #00af00; text-decoration-color: #00af00\">82,433</span> (322.00 KB)\n",
       "</pre>\n"
      ],
      "text/plain": [
       "\u001b[1m Total params: \u001b[0m\u001b[38;5;34m82,433\u001b[0m (322.00 KB)\n"
      ]
     },
     "metadata": {},
     "output_type": "display_data"
    },
    {
     "data": {
      "text/html": [
       "<pre style=\"white-space:pre;overflow-x:auto;line-height:normal;font-family:Menlo,'DejaVu Sans Mono',consolas,'Courier New',monospace\"><span style=\"font-weight: bold\"> Trainable params: </span><span style=\"color: #00af00; text-decoration-color: #00af00\">82,433</span> (322.00 KB)\n",
       "</pre>\n"
      ],
      "text/plain": [
       "\u001b[1m Trainable params: \u001b[0m\u001b[38;5;34m82,433\u001b[0m (322.00 KB)\n"
      ]
     },
     "metadata": {},
     "output_type": "display_data"
    },
    {
     "data": {
      "text/html": [
       "<pre style=\"white-space:pre;overflow-x:auto;line-height:normal;font-family:Menlo,'DejaVu Sans Mono',consolas,'Courier New',monospace\"><span style=\"font-weight: bold\"> Non-trainable params: </span><span style=\"color: #00af00; text-decoration-color: #00af00\">0</span> (0.00 B)\n",
       "</pre>\n"
      ],
      "text/plain": [
       "\u001b[1m Non-trainable params: \u001b[0m\u001b[38;5;34m0\u001b[0m (0.00 B)\n"
      ]
     },
     "metadata": {},
     "output_type": "display_data"
    }
   ],
   "source": [
    "# Define the DNN model\n",
    "model = tf.keras.Sequential([\n",
    "    # Input layer\n",
    "    tf.keras.layers.InputLayer(input_shape=(X_train.shape[1],)),\n",
    "\n",
    "    # Hidden layers\n",
    "    tf.keras.layers.Dense(128, activation='relu'),  # First hidden layer with 128 neurons\n",
    "    tf.keras.layers.Dropout(0.5),  # Dropout layer to reduce overfitting\n",
    "    tf.keras.layers.Dense(64, activation='relu'),  # Second hidden layer with 64 neurons\n",
    "    tf.keras.layers.Dropout(0.5),  # Dropout layer\n",
    "\n",
    "    # Output layer\n",
    "    tf.keras.layers.Dense(1, activation='sigmoid')  # Output layer with sigmoid activation for binary classification\n",
    "])\n",
    "\n",
    "# Compile the model\n",
    "model.compile(optimizer='adam', loss='binary_crossentropy', metrics=['accuracy'])\n",
    "\n",
    "# Model summary\n",
    "model.summary()\n"
   ]
  },
  {
   "cell_type": "code",
   "execution_count": 25,
   "metadata": {
    "execution": {
     "iopub.execute_input": "2024-12-05T20:25:39.902408Z",
     "iopub.status.busy": "2024-12-05T20:25:39.901587Z",
     "iopub.status.idle": "2024-12-05T20:27:27.542068Z",
     "shell.execute_reply": "2024-12-05T20:27:27.541400Z",
     "shell.execute_reply.started": "2024-12-05T20:25:39.902373Z"
    },
    "trusted": true
   },
   "outputs": [
    {
     "name": "stdout",
     "output_type": "stream",
     "text": [
      "Epoch 1/10\n",
      "\u001b[1m6374/6374\u001b[0m \u001b[32m━━━━━━━━━━━━━━━━━━━━\u001b[0m\u001b[37m\u001b[0m \u001b[1m16s\u001b[0m 2ms/step - accuracy: 0.9761 - loss: 0.0525 - val_accuracy: 0.9818 - val_loss: 0.0347\n",
      "Epoch 2/10\n",
      "\u001b[1m6374/6374\u001b[0m \u001b[32m━━━━━━━━━━━━━━━━━━━━\u001b[0m\u001b[37m\u001b[0m \u001b[1m10s\u001b[0m 2ms/step - accuracy: 0.9810 - loss: 0.0358 - val_accuracy: 0.9817 - val_loss: 0.0347\n",
      "Epoch 3/10\n",
      "\u001b[1m6374/6374\u001b[0m \u001b[32m━━━━━━━━━━━━━━━━━━━━\u001b[0m\u001b[37m\u001b[0m \u001b[1m10s\u001b[0m 2ms/step - accuracy: 0.9818 - loss: 0.0351 - val_accuracy: 0.9817 - val_loss: 0.0348\n",
      "Epoch 4/10\n",
      "\u001b[1m6374/6374\u001b[0m \u001b[32m━━━━━━━━━━━━━━━━━━━━\u001b[0m\u001b[37m\u001b[0m \u001b[1m10s\u001b[0m 2ms/step - accuracy: 0.9813 - loss: 0.0354 - val_accuracy: 0.9822 - val_loss: 0.0345\n",
      "Epoch 5/10\n",
      "\u001b[1m6374/6374\u001b[0m \u001b[32m━━━━━━━━━━━━━━━━━━━━\u001b[0m\u001b[37m\u001b[0m \u001b[1m10s\u001b[0m 2ms/step - accuracy: 0.9820 - loss: 0.0346 - val_accuracy: 0.9814 - val_loss: 0.0349\n",
      "Epoch 6/10\n",
      "\u001b[1m6374/6374\u001b[0m \u001b[32m━━━━━━━━━━━━━━━━━━━━\u001b[0m\u001b[37m\u001b[0m \u001b[1m10s\u001b[0m 2ms/step - accuracy: 0.9816 - loss: 0.0348 - val_accuracy: 0.9818 - val_loss: 0.0345\n",
      "Epoch 7/10\n",
      "\u001b[1m6374/6374\u001b[0m \u001b[32m━━━━━━━━━━━━━━━━━━━━\u001b[0m\u001b[37m\u001b[0m \u001b[1m10s\u001b[0m 2ms/step - accuracy: 0.9817 - loss: 0.0343 - val_accuracy: 0.9822 - val_loss: 0.0344\n",
      "Epoch 8/10\n",
      "\u001b[1m6374/6374\u001b[0m \u001b[32m━━━━━━━━━━━━━━━━━━━━\u001b[0m\u001b[37m\u001b[0m \u001b[1m10s\u001b[0m 2ms/step - accuracy: 0.9818 - loss: 0.0346 - val_accuracy: 0.9818 - val_loss: 0.0344\n",
      "Epoch 9/10\n",
      "\u001b[1m6374/6374\u001b[0m \u001b[32m━━━━━━━━━━━━━━━━━━━━\u001b[0m\u001b[37m\u001b[0m \u001b[1m10s\u001b[0m 2ms/step - accuracy: 0.9815 - loss: 0.0352 - val_accuracy: 0.9816 - val_loss: 0.0345\n",
      "Epoch 10/10\n",
      "\u001b[1m6374/6374\u001b[0m \u001b[32m━━━━━━━━━━━━━━━━━━━━\u001b[0m\u001b[37m\u001b[0m \u001b[1m10s\u001b[0m 2ms/step - accuracy: 0.9819 - loss: 0.0345 - val_accuracy: 0.9819 - val_loss: 0.0344\n"
     ]
    }
   ],
   "source": [
    "# Train the model\n",
    "history = model.fit(X_train, y_train, epochs=10, batch_size=32, validation_data=(X_val, y_val))\n"
   ]
  },
  {
   "cell_type": "code",
   "execution_count": 29,
   "metadata": {
    "execution": {
     "iopub.execute_input": "2024-12-05T20:29:09.585859Z",
     "iopub.status.busy": "2024-12-05T20:29:09.585493Z",
     "iopub.status.idle": "2024-12-05T20:29:12.098269Z",
     "shell.execute_reply": "2024-12-05T20:29:12.097465Z",
     "shell.execute_reply.started": "2024-12-05T20:29:09.585826Z"
    },
    "trusted": true
   },
   "outputs": [
    {
     "name": "stdout",
     "output_type": "stream",
     "text": [
      "\u001b[1m1607/1607\u001b[0m \u001b[32m━━━━━━━━━━━━━━━━━━━━\u001b[0m\u001b[37m\u001b[0m \u001b[1m2s\u001b[0m 1ms/step - accuracy: 0.9832 - loss: 0.0327\n",
      "Test Loss: 0.0334\n",
      "Test Accuracy: 0.9830\n"
     ]
    }
   ],
   "source": [
    "# Evaluate the model on the test data\n",
    "test_loss, test_accuracy = model.evaluate(X_test, y_test)\n",
    "print(f'Test Loss: {test_loss:.4f}')\n",
    "print(f'Test Accuracy: {test_accuracy:.4f}')"
   ]
  },
  {
   "cell_type": "code",
   "execution_count": 31,
   "metadata": {
    "execution": {
     "iopub.execute_input": "2024-12-05T20:29:36.986532Z",
     "iopub.status.busy": "2024-12-05T20:29:36.986186Z",
     "iopub.status.idle": "2024-12-05T20:29:37.268015Z",
     "shell.execute_reply": "2024-12-05T20:29:37.267190Z",
     "shell.execute_reply.started": "2024-12-05T20:29:36.986499Z"
    },
    "trusted": true
   },
   "outputs": [
    {
     "data": {
      "image/png": "[encoded data removed]",
      "text/plain": [
       "<Figure size 640x480 with 1 Axes>"
      ]
     },
     "metadata": {},
     "output_type": "display_data"
    }
   ],
   "source": [
    "import matplotlib.pyplot as plt\n",
    "# Visualize training & validation accuracy values\n",
    "plt.plot(history.history['accuracy'])\n",
    "plt.plot(history.history['val_accuracy'])\n",
    "plt.title('Model Accuracy')\n",
    "plt.xlabel('Epochs')\n",
    "plt.ylabel('Accuracy')\n",
    "plt.legend(['Train', 'Validation'], loc='upper left')\n",
    "plt.show()"
   ]
  },
  {
   "cell_type": "code",
   "execution_count": 32,
   "metadata": {
    "execution": {
     "iopub.execute_input": "2024-12-05T20:29:54.530085Z",
     "iopub.status.busy": "2024-12-05T20:29:54.529729Z",
     "iopub.status.idle": "2024-12-05T20:29:54.700412Z",
     "shell.execute_reply": "2024-12-05T20:29:54.699560Z",
     "shell.execute_reply.started": "2024-12-05T20:29:54.530053Z"
    },
    "trusted": true
   },
   "outputs": [
    {
     "data": {
      "image/png": "[encoded data removed]",
      "text/plain": [
       "<Figure size 640x480 with 1 Axes>"
      ]
     },
     "metadata": {},
     "output_type": "display_data"
    }
   ],
   "source": [
    "# Visualize training & validation loss values\n",
    "plt.plot(history.history['loss'])\n",
    "plt.plot(history.history['val_loss'])\n",
    "plt.title('Model Loss')\n",
    "plt.xlabel('Epochs')\n",
    "plt.ylabel('Loss')\n",
    "plt.legend(['Train', 'Validation'], loc='upper left')\n",
    "plt.show()"
   ]
  },
  {
   "cell_type": "code",
   "execution_count": 33,
   "metadata": {
    "execution": {
     "iopub.execute_input": "2024-12-05T20:30:02.648329Z",
     "iopub.status.busy": "2024-12-05T20:30:02.647984Z",
     "iopub.status.idle": "2024-12-05T20:30:05.895404Z",
     "shell.execute_reply": "2024-12-05T20:30:05.894614Z",
     "shell.execute_reply.started": "2024-12-05T20:30:02.648296Z"
    },
    "trusted": true
   },
   "outputs": [
    {
     "name": "stdout",
     "output_type": "stream",
     "text": [
      "\u001b[1m1607/1607\u001b[0m \u001b[32m━━━━━━━━━━━━━━━━━━━━\u001b[0m\u001b[37m\u001b[0m \u001b[1m2s\u001b[0m 1ms/step\n"
     ]
    }
   ],
   "source": [
    "# Predict on the test set\n",
    "predictions = model.predict(X_test)\n",
    "predictions = (predictions > 0.5).astype(int)  # Convert to binary predictions (0 or 1)\n"
   ]
  },
  {
   "cell_type": "code",
   "execution_count": 35,
   "metadata": {
    "execution": {
     "iopub.execute_input": "2024-12-05T20:30:29.091355Z",
     "iopub.status.busy": "2024-12-05T20:30:29.091021Z",
     "iopub.status.idle": "2024-12-05T20:30:29.214605Z",
     "shell.execute_reply": "2024-12-05T20:30:29.213656Z",
     "shell.execute_reply.started": "2024-12-05T20:30:29.091323Z"
    },
    "trusted": true
   },
   "outputs": [
    {
     "name": "stdout",
     "output_type": "stream",
     "text": [
      "              precision    recall  f1-score   support\n",
      "\n",
      "           0       1.00      0.99      0.99     49562\n",
      "           1       0.70      0.92      0.79      1833\n",
      "\n",
      "    accuracy                           0.98     51395\n",
      "   macro avg       0.85      0.95      0.89     51395\n",
      "weighted avg       0.99      0.98      0.98     51395\n",
      "\n"
     ]
    }
   ],
   "source": [
    "from sklearn.metrics import classification_report, confusion_matrix\n",
    "# Print classification report\n",
    "print(classification_report(y_test, predictions))"
   ]
  },
  {
   "cell_type": "code",
   "execution_count": 37,
   "metadata": {
    "execution": {
     "iopub.execute_input": "2024-12-05T20:30:49.599176Z",
     "iopub.status.busy": "2024-12-05T20:30:49.598473Z",
     "iopub.status.idle": "2024-12-05T20:30:50.279877Z",
     "shell.execute_reply": "2024-12-05T20:30:50.278887Z",
     "shell.execute_reply.started": "2024-12-05T20:30:49.599141Z"
    },
    "trusted": true
   },
   "outputs": [
    {
     "data": {
      "image/png": "[encoded data removed]",
      "text/plain": [
       "<Figure size 640x480 with 2 Axes>"
      ]
     },
     "metadata": {},
     "output_type": "display_data"
    }
   ],
   "source": [
    "import seaborn as sns\n",
    "# Plot confusion matrix\n",
    "conf_matrix = confusion_matrix(y_test, predictions)\n",
    "sns.heatmap(conf_matrix, annot=True, fmt='d', cmap='Blues', xticklabels=['Class 0', 'Class 1'], yticklabels=['Class 0', 'Class 1'])\n",
    "plt.xlabel('Predicted')\n",
    "plt.ylabel('True')\n",
    "plt.show()"
   ]
  }
 ],
 "metadata": {
  "kaggle": {
   "accelerator": "nvidiaTeslaT4",
   "dataSources": [
    {
     "datasetId": 6239597,
     "sourceId": 10113408,
     "sourceType": "datasetVersion"
    }
   ],
   "dockerImageVersionId": 30805,
   "isGpuEnabled": true,
   "isInternetEnabled": true,
   "language": "python",
   "sourceType": "notebook"
  },
  "kernelspec": {
   "display_name": "Python 3",
   "language": "python",
   "name": "python3"
  },
  "language_info": {
   "codemirror_mode": {
    "name": "ipython",
    "version": 3
   },
   "file_extension": ".py",
   "mimetype": "text/x-python",
   "name": "python",
   "nbconvert_exporter": "python",
   "pygments_lexer": "ipython3",
   "version": "3.10.14"
  }
 },
 "nbformat": 4,
 "nbformat_minor": 4
}
